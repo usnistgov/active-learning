{
 "cells": [
  {
   "cell_type": "markdown",
   "metadata": {},
   "source": [
    "# Active learning"
   ]
  },
  {
   "cell_type": "code",
   "execution_count": 80,
   "metadata": {},
   "outputs": [],
   "source": [
    "import numpy as np\n",
    "\n",
    "from active import split_on_ids\n",
    "from sklearn.gaussian_process.kernels import RBF, WhiteKernel, Matern\n",
    "from sklearn.gaussian_process import GaussianProcessRegressor\n",
    "import matplotlib.pyplot as plt\n",
    "from sklearn.metrics import r2_score\n",
    "from toolz.curried import curry, merge_with\n",
    "from active import next_sample_gsx, next_sample_igs\n",
    "from tqdm.notebook import trange, tqdm\n",
    "import hdfdict\n",
    "import matplotlib\n",
    "from dask_ml.preprocessing import PolynomialFeatures\n",
    "from sklearn.linear_model import LinearRegression\n",
    "from sklearn.pipeline import Pipeline\n"
   ]
  },
  {
   "cell_type": "code",
   "execution_count": 99,
   "metadata": {},
   "outputs": [],
   "source": [
    "def make_gp_model_matern():\n",
    "    kernel = Matern(length_scale=1.0, nu=0.5)\n",
    "    regressor = GaussianProcessRegressor(kernel=kernel)\n",
    "    return regressor\n",
    "\n",
    "def make_linear_model():\n",
    "    return Pipeline(steps=(\n",
    "        ('poly', PolynomialFeatures(degree=3)),\n",
    "        ('regressor', LinearRegression()),\n",
    "    ))\n"
   ]
  },
  {
   "cell_type": "code",
   "execution_count": 100,
   "metadata": {},
   "outputs": [],
   "source": [
    "def train_test_split_(x_data, y_data, prop, random_state=None):\n",
    "    ids = np.random.choice(len(x_data), int(prop * len(x_data)), replace=False)\n",
    "    x_0, x_1 = split_on_ids(x_data, ids)\n",
    "    y_0, y_1 = split_on_ids(y_data, ids)\n",
    "    return x_0, x_1, y_0, y_1"
   ]
  },
  {
   "cell_type": "code",
   "execution_count": 101,
   "metadata": {},
   "outputs": [],
   "source": [
    "def split(x_data, y_data, train_sizes=(0.9, 0.09), random_state=None):\n",
    "    x_pool, x_, y_pool, y_ = train_test_split_(\n",
    "        x_data,\n",
    "        y_data,\n",
    "        train_sizes[0],\n",
    "        random_state=random_state\n",
    "    )\n",
    "    x_test, x_calibrate, y_test, y_calibrate = train_test_split_(\n",
    "        x_,\n",
    "        y_,\n",
    "        train_sizes[1] / (1 - train_sizes[0]),\n",
    "        random_state=random_state\n",
    "    ) \n",
    "    return x_pool, x_test, x_calibrate, y_pool, y_test, y_calibrate"
   ]
  },
  {
   "cell_type": "code",
   "execution_count": 102,
   "metadata": {},
   "outputs": [],
   "source": [
    "@curry \n",
    "def oracle_func(x_data, y_data, query_instance):\n",
    "    idx, query_value = query_instance\n",
    "    return query_value.reshape(1, -1), np.array([y_data[idx]]).reshape(1)"
   ]
  },
  {
   "cell_type": "code",
   "execution_count": 103,
   "metadata": {},
   "outputs": [],
   "source": [
    "def query_uncertainty(model, x_pool, y_pool, batch_size):\n",
    "    stds = model.predict(x_pool, return_std=True)[1]\n",
    "    ids = np.argsort(stds)[::-1][:batch_size]\n",
    "    return rework_pool(x_pool, y_pool, ids)\n",
    "\n",
    "def query_random(model, x_pool, y_pool, batch_size):\n",
    "    ids = np.random.choice(len(x_pool), batch_size, replace=False)\n",
    "    return rework_pool(x_pool, y_pool, ids)\n",
    "\n",
    "\n",
    "def evaluate_model(x_pool, x_test, x_train, y_pool, y_test, y_train, model, query_func, batch_size):\n",
    "    model.fit(x_train, y_train)\n",
    "    train_score = model.score(x_train, y_train)\n",
    "    test_score = model.score(x_test, y_test)\n",
    "    x_, x_pool, y_, y_pool = query_func(model, x_pool, y_pool, batch_size)\n",
    "    x_train = np.vstack([x_train, x_])\n",
    "    y_train = np.append(y_train, y_)\n",
    "    return model, x_pool, x_train, y_pool, y_train, test_score, train_score"
   ]
  },
  {
   "cell_type": "code",
   "execution_count": 104,
   "metadata": {},
   "outputs": [],
   "source": [
    "\n",
    "def query_helper(model, x_pool, y_pool, init_scores, update_scores, next_func):\n",
    "    if not hasattr(model, 'query_data'):\n",
    "        model.query_data = [], init_scores()\n",
    "    labeled_samples, scores = model.query_data\n",
    "    scores = update_scores(model, scores)\n",
    "    next_id = next_func(labeled_samples, scores)\n",
    "    model.query_data = (labeled_samples + [next_id], scores)\n",
    "    x_, _, y_, _ = rework_pool(x_pool, y_pool, [next_id])\n",
    "    return x_, x_pool, y_, y_pool\n",
    "\n",
    "\n",
    "def gsx_query(model, x_pool, y_pool, batch_size):\n",
    "    return query_helper(\n",
    "        model,\n",
    "        x_pool,\n",
    "        y_pool,\n",
    "        lambda: x_pool,\n",
    "        lambda m, s: s,\n",
    "        next_sample_gsx\n",
    "    )\n",
    "\n",
    "def gsy_query(model, x_pool, y_pool, batch_size):\n",
    "    return query_helper(\n",
    "        model,\n",
    "        x_pool,\n",
    "        y_pool,\n",
    "        lambda: None,\n",
    "        lambda m, s: m.predict(x_pool).reshape(-1, 1),\n",
    "        next_sample_gsx\n",
    "    )\n",
    "\n",
    "\n",
    "def igs_query(model, x_pool, y_pool, batch_size):\n",
    "    return query_helper(\n",
    "        model,\n",
    "        x_pool,\n",
    "        y_pool,\n",
    "        lambda: (x_pool, None),\n",
    "        lambda m, s: (s[0], m.predict(x_pool).reshape(-1, 1)),\n",
    "        next_sample_igs\n",
    "    )"
   ]
  },
  {
   "cell_type": "code",
   "execution_count": 105,
   "metadata": {},
   "outputs": [],
   "source": [
    "from toolz.curried import map as fmap\n",
    "\n",
    "def merge_func(x):\n",
    "    return dict(\n",
    "        mean=np.mean(x, axis=0),\n",
    "        std=np.std(x, axis=0),\n",
    "        scores=np.array(x)\n",
    "    )\n",
    "\n",
    "def run_multiple(x_data_pca, y_data, train_sizes, learners, n_query, n_iter, batch_size):\n",
    "    _ = fmap(lambda _: run_all(x_data_pca, y_data, train_sizes, learners, n_query, batch_size), trange(n_iter, position=0, desc='outer loop'))\n",
    "    all_data = list(_)\n",
    "    return merge_with(merge_func, *all_data)"
   ]
  },
  {
   "cell_type": "code",
   "execution_count": 106,
   "metadata": {},
   "outputs": [],
   "source": [
    "def run_all(x_data_pca, y_data, train_sizes, learners, n_query, batch_size):\n",
    "    data = split(x_data_pca, y_data, train_sizes)\n",
    "    test_scores = dict()\n",
    "    for k in tqdm(learners, position=1, desc=\"learner loop\"):\n",
    "        test_scores[k] = run(data, learners[k][0], learners[k][1], n_query, batch_size=batch_size)[1]\n",
    "    return test_scores"
   ]
  },
  {
   "cell_type": "code",
   "execution_count": 107,
   "metadata": {},
   "outputs": [],
   "source": [
    "def run(data, query_func, model_func, n_iter, train_sizes=(0.87, 0.004), batch_size=1):\n",
    "    x_pool, x_test, x_train, y_pool, y_test, y_train = data\n",
    "    print('x_train.shape', x_train.shape)\n",
    "    print('x_test.shape:', x_test.shape)\n",
    "    model = model_func()\n",
    "    train_scores = []\n",
    "    test_scores = []\n",
    "    \n",
    "#    for k in tqdm.tqdm(learners):\n",
    "#        test_scores[k] = run(data, learners[k][0], learners[k][1], n_query)[1]\n",
    "    \n",
    "    for _ in trange(n_iter, position=2, desc='iter loop'):\n",
    "#        model_ = model\n",
    "#        model = model_func()\n",
    "#        if hasattr(model_, \"query_data\"):\n",
    "#            model.query_data = model_.query_data\n",
    "        model, x_pool, x_train, y_pool, y_train, test_score, train_score  = evaluate_model(\n",
    "            x_pool, x_test, x_train, y_pool, y_test, y_train,\n",
    "            model, \n",
    "            query_func,\n",
    "            batch_size\n",
    "        )\n",
    "        \n",
    "        train_scores += [train_score] * batch_size\n",
    "        test_scores += [test_score] * batch_size\n",
    "       \n",
    "    return train_scores, test_scores\n",
    "    "
   ]
  },
  {
   "cell_type": "code",
   "execution_count": 108,
   "metadata": {},
   "outputs": [],
   "source": [
    "def rework_pool(x_pool, y_pool, ids):\n",
    "    x_, x_pool = split_on_ids(x_pool, ids)\n",
    "    y_, y_pool = split_on_ids(y_pool, ids)\n",
    "    return x_, x_pool, y_, y_pool"
   ]
  },
  {
   "cell_type": "code",
   "execution_count": 117,
   "metadata": {},
   "outputs": [],
   "source": [
    "def plot_scores(scores, opt=None, opt_error=None, error_freq=20):\n",
    "\n",
    "    plt.style.use('ggplot')\n",
    "    plt.rcParams['axes.facecolor']='w'\n",
    "    plt.figure(figsize=(10, 8))\n",
    "    plt.rc('xtick', labelsize=14)    # fontsize of the tick labels\n",
    "    plt.rc('ytick', labelsize=14) \n",
    "    ax = plt.gca()\n",
    "    matplotlib.rc('font', **dict(size=16))\n",
    "    names = dict(\n",
    "        uncertainty=('Uncertainty', 'solid'),\n",
    "        random=(\"Random\", 'dotted'),\n",
    "        gsx=(\"GSX\", 'dashed'),\n",
    "        gsy=(\"GSY\", 'dashdot'),\n",
    "        igs=(\"IGS\", (5, (10, 3)))\n",
    "    )\n",
    "\n",
    "    offset = 10\n",
    "    for k, v in scores.items():\n",
    "        y = v['mean']\n",
    "        x = np.arange(len(y))\n",
    "        p = ax.plot(x, y, label=names[k][0], lw=3, linestyle=names[k][1])\n",
    "        e = v['std']\n",
    "        xe, ye, ee = x[offset::error_freq], y[offset::error_freq], e[offset::error_freq]\n",
    "        ax.errorbar(xe, ye, yerr=ee, alpha=0.5, ls='none', ecolor=p[-1].get_color(), elinewidth=3, capsize=4, capthick=3)\n",
    "        offset += 5\n",
    "        \n",
    "    if opt is not None:\n",
    "        xx = [0, 50, 100]\n",
    "        yy = [opt] * len(xx)\n",
    "        ee = [opt_error] * len(xx)\n",
    "        p = ax.plot(xx, yy, 'k--', label='Optimal')\n",
    "        ax.errorbar(xx, yy, yerr=ee, alpha=0.5, ls='none', ecolor=p[-1].get_color(), elinewidth=3, capsize=4, capthick=3)\n",
    "\n",
    "    plt.legend(fontsize=16)\n",
    "    plt.xlabel('N (queries)', fontsize=16)\n",
    "    plt.ylabel(r'$R^2$', fontsize=16);\n",
    "    plt.ylim(0.0, 1)\n",
    "    \n",
    "    return plt, ax"
   ]
  },
  {
   "cell_type": "markdown",
   "metadata": {},
   "source": [
    "# Load data and run the active learning"
   ]
  },
  {
   "cell_type": "code",
   "execution_count": 122,
   "metadata": {},
   "outputs": [],
   "source": [
    "data = np.load('data_pca51.npz')"
   ]
  },
  {
   "cell_type": "code",
   "execution_count": 123,
   "metadata": {},
   "outputs": [],
   "source": [
    "x_data_pca = data['x_data_pca']\n",
    "y_data = data['y_data']"
   ]
  },
  {
   "cell_type": "code",
   "execution_count": 126,
   "metadata": {},
   "outputs": [
    {
     "data": {
      "application/vnd.jupyter.widget-view+json": {
       "model_id": "595c81e2c8f249d4b7e758460fea3bd6",
       "version_major": 2,
       "version_minor": 0
      },
      "text/plain": [
       "outer loop:   0%|          | 0/40 [00:00<?, ?it/s]"
      ]
     },
     "metadata": {},
     "output_type": "display_data"
    },
    {
     "data": {
      "application/vnd.jupyter.widget-view+json": {
       "model_id": "3570f923748b4061b25afdcfe6e914e4",
       "version_major": 2,
       "version_minor": 0
      },
      "text/plain": [
       "learner loop:   0%|          | 0/4 [00:00<?, ?it/s]"
      ]
     },
     "metadata": {},
     "output_type": "display_data"
    },
    {
     "name": "stdout",
     "output_type": "stream",
     "text": [
      "x_train.shape (6, 15)\n",
      "x_test.shape: (120, 15)\n"
     ]
    },
    {
     "data": {
      "application/vnd.jupyter.widget-view+json": {
       "model_id": "4ef00b1a004c43db9d04b20ee4589643",
       "version_major": 2,
       "version_minor": 0
      },
      "text/plain": [
       "iter loop:   0%|          | 0/100 [00:00<?, ?it/s]"
      ]
     },
     "metadata": {},
     "output_type": "display_data"
    },
    {
     "name": "stdout",
     "output_type": "stream",
     "text": [
      "x_train.shape (6, 15)\n",
      "x_test.shape: (120, 15)\n"
     ]
    },
    {
     "data": {
      "application/vnd.jupyter.widget-view+json": {
       "model_id": "8486de6c25c04cb79914258b07117009",
       "version_major": 2,
       "version_minor": 0
      },
      "text/plain": [
       "iter loop:   0%|          | 0/100 [00:00<?, ?it/s]"
      ]
     },
     "metadata": {},
     "output_type": "display_data"
    },
    {
     "name": "stdout",
     "output_type": "stream",
     "text": [
      "x_train.shape (6, 15)\n",
      "x_test.shape: (120, 15)\n"
     ]
    },
    {
     "data": {
      "application/vnd.jupyter.widget-view+json": {
       "model_id": "811e1719154849cc88d024e61c2580a9",
       "version_major": 2,
       "version_minor": 0
      },
      "text/plain": [
       "iter loop:   0%|          | 0/100 [00:00<?, ?it/s]"
      ]
     },
     "metadata": {},
     "output_type": "display_data"
    },
    {
     "name": "stdout",
     "output_type": "stream",
     "text": [
      "x_train.shape (6, 15)\n",
      "x_test.shape: (120, 15)\n"
     ]
    },
    {
     "data": {
      "application/vnd.jupyter.widget-view+json": {
       "model_id": "041654c066c948df9a3878cb6978d9cb",
       "version_major": 2,
       "version_minor": 0
      },
      "text/plain": [
       "iter loop:   0%|          | 0/100 [00:00<?, ?it/s]"
      ]
     },
     "metadata": {},
     "output_type": "display_data"
    },
    {
     "data": {
      "application/vnd.jupyter.widget-view+json": {
       "model_id": "dc9d1992c17d4c3aa97aa8445941eab8",
       "version_major": 2,
       "version_minor": 0
      },
      "text/plain": [
       "learner loop:   0%|          | 0/4 [00:00<?, ?it/s]"
      ]
     },
     "metadata": {},
     "output_type": "display_data"
    },
    {
     "name": "stdout",
     "output_type": "stream",
     "text": [
      "x_train.shape (6, 15)\n",
      "x_test.shape: (120, 15)\n"
     ]
    },
    {
     "data": {
      "application/vnd.jupyter.widget-view+json": {
       "model_id": "bf7de675f2be41649a8cbe1c5768b6eb",
       "version_major": 2,
       "version_minor": 0
      },
      "text/plain": [
       "iter loop:   0%|          | 0/100 [00:00<?, ?it/s]"
      ]
     },
     "metadata": {},
     "output_type": "display_data"
    },
    {
     "name": "stdout",
     "output_type": "stream",
     "text": [
      "x_train.shape (6, 15)\n",
      "x_test.shape: (120, 15)\n"
     ]
    },
    {
     "data": {
      "application/vnd.jupyter.widget-view+json": {
       "model_id": "b3ecbe824d504c5aab7e9abef5d0d7b4",
       "version_major": 2,
       "version_minor": 0
      },
      "text/plain": [
       "iter loop:   0%|          | 0/100 [00:00<?, ?it/s]"
      ]
     },
     "metadata": {},
     "output_type": "display_data"
    },
    {
     "name": "stdout",
     "output_type": "stream",
     "text": [
      "x_train.shape (6, 15)\n",
      "x_test.shape: (120, 15)\n"
     ]
    },
    {
     "data": {
      "application/vnd.jupyter.widget-view+json": {
       "model_id": "b77251499497490eb2445d29d78be026",
       "version_major": 2,
       "version_minor": 0
      },
      "text/plain": [
       "iter loop:   0%|          | 0/100 [00:00<?, ?it/s]"
      ]
     },
     "metadata": {},
     "output_type": "display_data"
    },
    {
     "name": "stdout",
     "output_type": "stream",
     "text": [
      "x_train.shape (6, 15)\n",
      "x_test.shape: (120, 15)\n"
     ]
    },
    {
     "data": {
      "application/vnd.jupyter.widget-view+json": {
       "model_id": "c84ee6cb7f30493390efccc16aa72bca",
       "version_major": 2,
       "version_minor": 0
      },
      "text/plain": [
       "iter loop:   0%|          | 0/100 [00:00<?, ?it/s]"
      ]
     },
     "metadata": {},
     "output_type": "display_data"
    },
    {
     "data": {
      "application/vnd.jupyter.widget-view+json": {
       "model_id": "fd26027969d04f218bd574bc01a4724e",
       "version_major": 2,
       "version_minor": 0
      },
      "text/plain": [
       "learner loop:   0%|          | 0/4 [00:00<?, ?it/s]"
      ]
     },
     "metadata": {},
     "output_type": "display_data"
    },
    {
     "name": "stdout",
     "output_type": "stream",
     "text": [
      "x_train.shape (6, 15)\n",
      "x_test.shape: (120, 15)\n"
     ]
    },
    {
     "data": {
      "application/vnd.jupyter.widget-view+json": {
       "model_id": "f8077dcb51964093a625ef6aa9a2202b",
       "version_major": 2,
       "version_minor": 0
      },
      "text/plain": [
       "iter loop:   0%|          | 0/100 [00:00<?, ?it/s]"
      ]
     },
     "metadata": {},
     "output_type": "display_data"
    },
    {
     "name": "stdout",
     "output_type": "stream",
     "text": [
      "x_train.shape (6, 15)\n",
      "x_test.shape: (120, 15)\n"
     ]
    },
    {
     "data": {
      "application/vnd.jupyter.widget-view+json": {
       "model_id": "a455a5f66678450986e73cebcfabba49",
       "version_major": 2,
       "version_minor": 0
      },
      "text/plain": [
       "iter loop:   0%|          | 0/100 [00:00<?, ?it/s]"
      ]
     },
     "metadata": {},
     "output_type": "display_data"
    },
    {
     "name": "stdout",
     "output_type": "stream",
     "text": [
      "x_train.shape (6, 15)\n",
      "x_test.shape: (120, 15)\n"
     ]
    },
    {
     "data": {
      "application/vnd.jupyter.widget-view+json": {
       "model_id": "3e0d78a1ea0a4bcfb8d87a5ba472cd6d",
       "version_major": 2,
       "version_minor": 0
      },
      "text/plain": [
       "iter loop:   0%|          | 0/100 [00:00<?, ?it/s]"
      ]
     },
     "metadata": {},
     "output_type": "display_data"
    },
    {
     "name": "stdout",
     "output_type": "stream",
     "text": [
      "x_train.shape (6, 15)\n",
      "x_test.shape: (120, 15)\n"
     ]
    },
    {
     "data": {
      "application/vnd.jupyter.widget-view+json": {
       "model_id": "a1894fb0a635425a8c8f7f408892976f",
       "version_major": 2,
       "version_minor": 0
      },
      "text/plain": [
       "iter loop:   0%|          | 0/100 [00:00<?, ?it/s]"
      ]
     },
     "metadata": {},
     "output_type": "display_data"
    },
    {
     "data": {
      "application/vnd.jupyter.widget-view+json": {
       "model_id": "3739f0dcfb464ab381dd41b1a8ebde22",
       "version_major": 2,
       "version_minor": 0
      },
      "text/plain": [
       "learner loop:   0%|          | 0/4 [00:00<?, ?it/s]"
      ]
     },
     "metadata": {},
     "output_type": "display_data"
    },
    {
     "name": "stdout",
     "output_type": "stream",
     "text": [
      "x_train.shape (6, 15)\n",
      "x_test.shape: (120, 15)\n"
     ]
    },
    {
     "data": {
      "application/vnd.jupyter.widget-view+json": {
       "model_id": "37e2d5fef6e64f1b824504d1f710443b",
       "version_major": 2,
       "version_minor": 0
      },
      "text/plain": [
       "iter loop:   0%|          | 0/100 [00:00<?, ?it/s]"
      ]
     },
     "metadata": {},
     "output_type": "display_data"
    },
    {
     "name": "stdout",
     "output_type": "stream",
     "text": [
      "x_train.shape (6, 15)\n",
      "x_test.shape: (120, 15)\n"
     ]
    },
    {
     "data": {
      "application/vnd.jupyter.widget-view+json": {
       "model_id": "30ef9ee131334b299c5f9e1ac8af94bf",
       "version_major": 2,
       "version_minor": 0
      },
      "text/plain": [
       "iter loop:   0%|          | 0/100 [00:00<?, ?it/s]"
      ]
     },
     "metadata": {},
     "output_type": "display_data"
    },
    {
     "name": "stdout",
     "output_type": "stream",
     "text": [
      "x_train.shape (6, 15)\n",
      "x_test.shape: (120, 15)\n"
     ]
    },
    {
     "data": {
      "application/vnd.jupyter.widget-view+json": {
       "model_id": "31c1d28d4cab4870a75f682b5a9b88a4",
       "version_major": 2,
       "version_minor": 0
      },
      "text/plain": [
       "iter loop:   0%|          | 0/100 [00:00<?, ?it/s]"
      ]
     },
     "metadata": {},
     "output_type": "display_data"
    },
    {
     "name": "stdout",
     "output_type": "stream",
     "text": [
      "x_train.shape (6, 15)\n",
      "x_test.shape: (120, 15)\n"
     ]
    },
    {
     "data": {
      "application/vnd.jupyter.widget-view+json": {
       "model_id": "78ec3587280948c8a1a31d558ceb5617",
       "version_major": 2,
       "version_minor": 0
      },
      "text/plain": [
       "iter loop:   0%|          | 0/100 [00:00<?, ?it/s]"
      ]
     },
     "metadata": {},
     "output_type": "display_data"
    },
    {
     "data": {
      "application/vnd.jupyter.widget-view+json": {
       "model_id": "64f0be3021674f13b4e03966b1623bd9",
       "version_major": 2,
       "version_minor": 0
      },
      "text/plain": [
       "learner loop:   0%|          | 0/4 [00:00<?, ?it/s]"
      ]
     },
     "metadata": {},
     "output_type": "display_data"
    },
    {
     "name": "stdout",
     "output_type": "stream",
     "text": [
      "x_train.shape (6, 15)\n",
      "x_test.shape: (120, 15)\n"
     ]
    },
    {
     "data": {
      "application/vnd.jupyter.widget-view+json": {
       "model_id": "527644d4af6243b6803a2005b54d5a56",
       "version_major": 2,
       "version_minor": 0
      },
      "text/plain": [
       "iter loop:   0%|          | 0/100 [00:00<?, ?it/s]"
      ]
     },
     "metadata": {},
     "output_type": "display_data"
    },
    {
     "name": "stdout",
     "output_type": "stream",
     "text": [
      "x_train.shape (6, 15)\n",
      "x_test.shape: (120, 15)\n"
     ]
    },
    {
     "data": {
      "application/vnd.jupyter.widget-view+json": {
       "model_id": "29dc588576c741a1a0717970a1d773f2",
       "version_major": 2,
       "version_minor": 0
      },
      "text/plain": [
       "iter loop:   0%|          | 0/100 [00:00<?, ?it/s]"
      ]
     },
     "metadata": {},
     "output_type": "display_data"
    },
    {
     "name": "stdout",
     "output_type": "stream",
     "text": [
      "x_train.shape (6, 15)\n",
      "x_test.shape: (120, 15)\n"
     ]
    },
    {
     "data": {
      "application/vnd.jupyter.widget-view+json": {
       "model_id": "7bd66947100e4ee792bc83ce61eb6791",
       "version_major": 2,
       "version_minor": 0
      },
      "text/plain": [
       "iter loop:   0%|          | 0/100 [00:00<?, ?it/s]"
      ]
     },
     "metadata": {},
     "output_type": "display_data"
    },
    {
     "name": "stdout",
     "output_type": "stream",
     "text": [
      "x_train.shape (6, 15)\n",
      "x_test.shape: (120, 15)\n"
     ]
    },
    {
     "data": {
      "application/vnd.jupyter.widget-view+json": {
       "model_id": "1bc925df24ba4a9a983e574b234025c2",
       "version_major": 2,
       "version_minor": 0
      },
      "text/plain": [
       "iter loop:   0%|          | 0/100 [00:00<?, ?it/s]"
      ]
     },
     "metadata": {},
     "output_type": "display_data"
    },
    {
     "data": {
      "application/vnd.jupyter.widget-view+json": {
       "model_id": "be50d46025484e9692fe40d3b24e5eec",
       "version_major": 2,
       "version_minor": 0
      },
      "text/plain": [
       "learner loop:   0%|          | 0/4 [00:00<?, ?it/s]"
      ]
     },
     "metadata": {},
     "output_type": "display_data"
    },
    {
     "name": "stdout",
     "output_type": "stream",
     "text": [
      "x_train.shape (6, 15)\n",
      "x_test.shape: (120, 15)\n"
     ]
    },
    {
     "data": {
      "application/vnd.jupyter.widget-view+json": {
       "model_id": "4ea49a99357d4a95be31176711f38a61",
       "version_major": 2,
       "version_minor": 0
      },
      "text/plain": [
       "iter loop:   0%|          | 0/100 [00:00<?, ?it/s]"
      ]
     },
     "metadata": {},
     "output_type": "display_data"
    },
    {
     "name": "stdout",
     "output_type": "stream",
     "text": [
      "x_train.shape (6, 15)\n",
      "x_test.shape: (120, 15)\n"
     ]
    },
    {
     "data": {
      "application/vnd.jupyter.widget-view+json": {
       "model_id": "3d48897cbcbb44acb77a38db09c21a37",
       "version_major": 2,
       "version_minor": 0
      },
      "text/plain": [
       "iter loop:   0%|          | 0/100 [00:00<?, ?it/s]"
      ]
     },
     "metadata": {},
     "output_type": "display_data"
    },
    {
     "name": "stdout",
     "output_type": "stream",
     "text": [
      "x_train.shape (6, 15)\n",
      "x_test.shape: (120, 15)\n"
     ]
    },
    {
     "data": {
      "application/vnd.jupyter.widget-view+json": {
       "model_id": "38faff763c61481084b421b7fe3ac7ea",
       "version_major": 2,
       "version_minor": 0
      },
      "text/plain": [
       "iter loop:   0%|          | 0/100 [00:00<?, ?it/s]"
      ]
     },
     "metadata": {},
     "output_type": "display_data"
    },
    {
     "name": "stdout",
     "output_type": "stream",
     "text": [
      "x_train.shape (6, 15)\n",
      "x_test.shape: (120, 15)\n"
     ]
    },
    {
     "data": {
      "application/vnd.jupyter.widget-view+json": {
       "model_id": "2b3f8277712f448f8b38d9337aec0027",
       "version_major": 2,
       "version_minor": 0
      },
      "text/plain": [
       "iter loop:   0%|          | 0/100 [00:00<?, ?it/s]"
      ]
     },
     "metadata": {},
     "output_type": "display_data"
    },
    {
     "data": {
      "application/vnd.jupyter.widget-view+json": {
       "model_id": "733f8a3ac18c49bb843f7de98b2faccd",
       "version_major": 2,
       "version_minor": 0
      },
      "text/plain": [
       "learner loop:   0%|          | 0/4 [00:00<?, ?it/s]"
      ]
     },
     "metadata": {},
     "output_type": "display_data"
    },
    {
     "name": "stdout",
     "output_type": "stream",
     "text": [
      "x_train.shape (6, 15)\n",
      "x_test.shape: (120, 15)\n"
     ]
    },
    {
     "data": {
      "application/vnd.jupyter.widget-view+json": {
       "model_id": "a214f87f01f9442c81a53be95ad5d6f9",
       "version_major": 2,
       "version_minor": 0
      },
      "text/plain": [
       "iter loop:   0%|          | 0/100 [00:00<?, ?it/s]"
      ]
     },
     "metadata": {},
     "output_type": "display_data"
    },
    {
     "name": "stdout",
     "output_type": "stream",
     "text": [
      "x_train.shape (6, 15)\n",
      "x_test.shape: (120, 15)\n"
     ]
    },
    {
     "data": {
      "application/vnd.jupyter.widget-view+json": {
       "model_id": "562e5ccebe0940c48c03d7bb08dd79c7",
       "version_major": 2,
       "version_minor": 0
      },
      "text/plain": [
       "iter loop:   0%|          | 0/100 [00:00<?, ?it/s]"
      ]
     },
     "metadata": {},
     "output_type": "display_data"
    },
    {
     "name": "stdout",
     "output_type": "stream",
     "text": [
      "x_train.shape (6, 15)\n",
      "x_test.shape: (120, 15)\n"
     ]
    },
    {
     "data": {
      "application/vnd.jupyter.widget-view+json": {
       "model_id": "8b2a70470adb467a820babba8dff5d35",
       "version_major": 2,
       "version_minor": 0
      },
      "text/plain": [
       "iter loop:   0%|          | 0/100 [00:00<?, ?it/s]"
      ]
     },
     "metadata": {},
     "output_type": "display_data"
    },
    {
     "name": "stdout",
     "output_type": "stream",
     "text": [
      "x_train.shape (6, 15)\n",
      "x_test.shape: (120, 15)\n"
     ]
    },
    {
     "data": {
      "application/vnd.jupyter.widget-view+json": {
       "model_id": "89de360be86843e6872906f8b0ef7e2a",
       "version_major": 2,
       "version_minor": 0
      },
      "text/plain": [
       "iter loop:   0%|          | 0/100 [00:00<?, ?it/s]"
      ]
     },
     "metadata": {},
     "output_type": "display_data"
    },
    {
     "data": {
      "application/vnd.jupyter.widget-view+json": {
       "model_id": "d8258ee2bd9f4682a76155dcb26b76fe",
       "version_major": 2,
       "version_minor": 0
      },
      "text/plain": [
       "learner loop:   0%|          | 0/4 [00:00<?, ?it/s]"
      ]
     },
     "metadata": {},
     "output_type": "display_data"
    },
    {
     "name": "stdout",
     "output_type": "stream",
     "text": [
      "x_train.shape (6, 15)\n",
      "x_test.shape: (120, 15)\n"
     ]
    },
    {
     "data": {
      "application/vnd.jupyter.widget-view+json": {
       "model_id": "1d9838c9825c4024ae51db83c59a1041",
       "version_major": 2,
       "version_minor": 0
      },
      "text/plain": [
       "iter loop:   0%|          | 0/100 [00:00<?, ?it/s]"
      ]
     },
     "metadata": {},
     "output_type": "display_data"
    },
    {
     "name": "stdout",
     "output_type": "stream",
     "text": [
      "x_train.shape (6, 15)\n",
      "x_test.shape: (120, 15)\n"
     ]
    },
    {
     "data": {
      "application/vnd.jupyter.widget-view+json": {
       "model_id": "40266d4a226e4aa186213a0160dcb81d",
       "version_major": 2,
       "version_minor": 0
      },
      "text/plain": [
       "iter loop:   0%|          | 0/100 [00:00<?, ?it/s]"
      ]
     },
     "metadata": {},
     "output_type": "display_data"
    },
    {
     "name": "stdout",
     "output_type": "stream",
     "text": [
      "x_train.shape (6, 15)\n",
      "x_test.shape: (120, 15)\n"
     ]
    },
    {
     "data": {
      "application/vnd.jupyter.widget-view+json": {
       "model_id": "9de7ef054b2e4b3ab9cf3f324b70ada6",
       "version_major": 2,
       "version_minor": 0
      },
      "text/plain": [
       "iter loop:   0%|          | 0/100 [00:00<?, ?it/s]"
      ]
     },
     "metadata": {},
     "output_type": "display_data"
    },
    {
     "name": "stdout",
     "output_type": "stream",
     "text": [
      "x_train.shape (6, 15)\n",
      "x_test.shape: (120, 15)\n"
     ]
    },
    {
     "data": {
      "application/vnd.jupyter.widget-view+json": {
       "model_id": "d71b710991fa478eb8e4e2bf4a89309b",
       "version_major": 2,
       "version_minor": 0
      },
      "text/plain": [
       "iter loop:   0%|          | 0/100 [00:00<?, ?it/s]"
      ]
     },
     "metadata": {},
     "output_type": "display_data"
    },
    {
     "data": {
      "application/vnd.jupyter.widget-view+json": {
       "model_id": "b28c526b032c4e64969a51da669207aa",
       "version_major": 2,
       "version_minor": 0
      },
      "text/plain": [
       "learner loop:   0%|          | 0/4 [00:00<?, ?it/s]"
      ]
     },
     "metadata": {},
     "output_type": "display_data"
    },
    {
     "name": "stdout",
     "output_type": "stream",
     "text": [
      "x_train.shape (6, 15)\n",
      "x_test.shape: (120, 15)\n"
     ]
    },
    {
     "data": {
      "application/vnd.jupyter.widget-view+json": {
       "model_id": "6cd99f77be294fdcb6282a8b7e6974c8",
       "version_major": 2,
       "version_minor": 0
      },
      "text/plain": [
       "iter loop:   0%|          | 0/100 [00:00<?, ?it/s]"
      ]
     },
     "metadata": {},
     "output_type": "display_data"
    },
    {
     "name": "stdout",
     "output_type": "stream",
     "text": [
      "x_train.shape (6, 15)\n",
      "x_test.shape: (120, 15)\n"
     ]
    },
    {
     "data": {
      "application/vnd.jupyter.widget-view+json": {
       "model_id": "483273ee813a436a86be2d009a479707",
       "version_major": 2,
       "version_minor": 0
      },
      "text/plain": [
       "iter loop:   0%|          | 0/100 [00:00<?, ?it/s]"
      ]
     },
     "metadata": {},
     "output_type": "display_data"
    },
    {
     "name": "stdout",
     "output_type": "stream",
     "text": [
      "x_train.shape (6, 15)\n",
      "x_test.shape: (120, 15)\n"
     ]
    },
    {
     "data": {
      "application/vnd.jupyter.widget-view+json": {
       "model_id": "5c9bdb40d9a148efbb466bf4a3f85587",
       "version_major": 2,
       "version_minor": 0
      },
      "text/plain": [
       "iter loop:   0%|          | 0/100 [00:00<?, ?it/s]"
      ]
     },
     "metadata": {},
     "output_type": "display_data"
    },
    {
     "name": "stdout",
     "output_type": "stream",
     "text": [
      "x_train.shape (6, 15)\n",
      "x_test.shape: (120, 15)\n"
     ]
    },
    {
     "data": {
      "application/vnd.jupyter.widget-view+json": {
       "model_id": "15e2a6fc9dca40c699cc86584919d427",
       "version_major": 2,
       "version_minor": 0
      },
      "text/plain": [
       "iter loop:   0%|          | 0/100 [00:00<?, ?it/s]"
      ]
     },
     "metadata": {},
     "output_type": "display_data"
    },
    {
     "data": {
      "application/vnd.jupyter.widget-view+json": {
       "model_id": "e441e4108876498fbe7bac8a6eea35b4",
       "version_major": 2,
       "version_minor": 0
      },
      "text/plain": [
       "learner loop:   0%|          | 0/4 [00:00<?, ?it/s]"
      ]
     },
     "metadata": {},
     "output_type": "display_data"
    },
    {
     "name": "stdout",
     "output_type": "stream",
     "text": [
      "x_train.shape (6, 15)\n",
      "x_test.shape: (120, 15)\n"
     ]
    },
    {
     "data": {
      "application/vnd.jupyter.widget-view+json": {
       "model_id": "b2b45f00848842cd91ab8fb5c79b887f",
       "version_major": 2,
       "version_minor": 0
      },
      "text/plain": [
       "iter loop:   0%|          | 0/100 [00:00<?, ?it/s]"
      ]
     },
     "metadata": {},
     "output_type": "display_data"
    },
    {
     "name": "stdout",
     "output_type": "stream",
     "text": [
      "x_train.shape (6, 15)\n",
      "x_test.shape: (120, 15)\n"
     ]
    },
    {
     "data": {
      "application/vnd.jupyter.widget-view+json": {
       "model_id": "7c4c3520ac164c4582e569e521decfe1",
       "version_major": 2,
       "version_minor": 0
      },
      "text/plain": [
       "iter loop:   0%|          | 0/100 [00:00<?, ?it/s]"
      ]
     },
     "metadata": {},
     "output_type": "display_data"
    },
    {
     "name": "stdout",
     "output_type": "stream",
     "text": [
      "x_train.shape (6, 15)\n",
      "x_test.shape: (120, 15)\n"
     ]
    },
    {
     "data": {
      "application/vnd.jupyter.widget-view+json": {
       "model_id": "b853a8897f534f5eb0d384619a7279e7",
       "version_major": 2,
       "version_minor": 0
      },
      "text/plain": [
       "iter loop:   0%|          | 0/100 [00:00<?, ?it/s]"
      ]
     },
     "metadata": {},
     "output_type": "display_data"
    },
    {
     "name": "stdout",
     "output_type": "stream",
     "text": [
      "x_train.shape (6, 15)\n",
      "x_test.shape: (120, 15)\n"
     ]
    },
    {
     "data": {
      "application/vnd.jupyter.widget-view+json": {
       "model_id": "877f36daaed64d4bb52aad70b5507a46",
       "version_major": 2,
       "version_minor": 0
      },
      "text/plain": [
       "iter loop:   0%|          | 0/100 [00:00<?, ?it/s]"
      ]
     },
     "metadata": {},
     "output_type": "display_data"
    },
    {
     "data": {
      "application/vnd.jupyter.widget-view+json": {
       "model_id": "c0906b1ec7714a318473d0fa5d708e16",
       "version_major": 2,
       "version_minor": 0
      },
      "text/plain": [
       "learner loop:   0%|          | 0/4 [00:00<?, ?it/s]"
      ]
     },
     "metadata": {},
     "output_type": "display_data"
    },
    {
     "name": "stdout",
     "output_type": "stream",
     "text": [
      "x_train.shape (6, 15)\n",
      "x_test.shape: (120, 15)\n"
     ]
    },
    {
     "data": {
      "application/vnd.jupyter.widget-view+json": {
       "model_id": "f5f81607bbad4c638a047056af2399d7",
       "version_major": 2,
       "version_minor": 0
      },
      "text/plain": [
       "iter loop:   0%|          | 0/100 [00:00<?, ?it/s]"
      ]
     },
     "metadata": {},
     "output_type": "display_data"
    },
    {
     "name": "stdout",
     "output_type": "stream",
     "text": [
      "x_train.shape (6, 15)\n",
      "x_test.shape: (120, 15)\n"
     ]
    },
    {
     "data": {
      "application/vnd.jupyter.widget-view+json": {
       "model_id": "8c5542bfb71345eda0fd613bede4be65",
       "version_major": 2,
       "version_minor": 0
      },
      "text/plain": [
       "iter loop:   0%|          | 0/100 [00:00<?, ?it/s]"
      ]
     },
     "metadata": {},
     "output_type": "display_data"
    },
    {
     "name": "stdout",
     "output_type": "stream",
     "text": [
      "x_train.shape (6, 15)\n",
      "x_test.shape: (120, 15)\n"
     ]
    },
    {
     "data": {
      "application/vnd.jupyter.widget-view+json": {
       "model_id": "d4f6344cddb24c1d857710c22bee8166",
       "version_major": 2,
       "version_minor": 0
      },
      "text/plain": [
       "iter loop:   0%|          | 0/100 [00:00<?, ?it/s]"
      ]
     },
     "metadata": {},
     "output_type": "display_data"
    },
    {
     "name": "stdout",
     "output_type": "stream",
     "text": [
      "x_train.shape (6, 15)\n",
      "x_test.shape: (120, 15)\n"
     ]
    },
    {
     "data": {
      "application/vnd.jupyter.widget-view+json": {
       "model_id": "aa2611294faf4ab48e542f1a65823085",
       "version_major": 2,
       "version_minor": 0
      },
      "text/plain": [
       "iter loop:   0%|          | 0/100 [00:00<?, ?it/s]"
      ]
     },
     "metadata": {},
     "output_type": "display_data"
    },
    {
     "data": {
      "application/vnd.jupyter.widget-view+json": {
       "model_id": "b2c1dcde862847759a20fa75fe0d3d89",
       "version_major": 2,
       "version_minor": 0
      },
      "text/plain": [
       "learner loop:   0%|          | 0/4 [00:00<?, ?it/s]"
      ]
     },
     "metadata": {},
     "output_type": "display_data"
    },
    {
     "name": "stdout",
     "output_type": "stream",
     "text": [
      "x_train.shape (6, 15)\n",
      "x_test.shape: (120, 15)\n"
     ]
    },
    {
     "data": {
      "application/vnd.jupyter.widget-view+json": {
       "model_id": "814a1d3a0e7a4667926a0947e9189f62",
       "version_major": 2,
       "version_minor": 0
      },
      "text/plain": [
       "iter loop:   0%|          | 0/100 [00:00<?, ?it/s]"
      ]
     },
     "metadata": {},
     "output_type": "display_data"
    },
    {
     "name": "stdout",
     "output_type": "stream",
     "text": [
      "x_train.shape (6, 15)\n",
      "x_test.shape: (120, 15)\n"
     ]
    },
    {
     "data": {
      "application/vnd.jupyter.widget-view+json": {
       "model_id": "fad0171fe7ac4ce49ef1dfd438da0929",
       "version_major": 2,
       "version_minor": 0
      },
      "text/plain": [
       "iter loop:   0%|          | 0/100 [00:00<?, ?it/s]"
      ]
     },
     "metadata": {},
     "output_type": "display_data"
    },
    {
     "name": "stdout",
     "output_type": "stream",
     "text": [
      "x_train.shape (6, 15)\n",
      "x_test.shape: (120, 15)\n"
     ]
    },
    {
     "data": {
      "application/vnd.jupyter.widget-view+json": {
       "model_id": "a547fe86278e4b04a568fde4c570ab39",
       "version_major": 2,
       "version_minor": 0
      },
      "text/plain": [
       "iter loop:   0%|          | 0/100 [00:00<?, ?it/s]"
      ]
     },
     "metadata": {},
     "output_type": "display_data"
    },
    {
     "name": "stdout",
     "output_type": "stream",
     "text": [
      "x_train.shape (6, 15)\n",
      "x_test.shape: (120, 15)\n"
     ]
    },
    {
     "data": {
      "application/vnd.jupyter.widget-view+json": {
       "model_id": "106c4aaff08648d48650188a585db31b",
       "version_major": 2,
       "version_minor": 0
      },
      "text/plain": [
       "iter loop:   0%|          | 0/100 [00:00<?, ?it/s]"
      ]
     },
     "metadata": {},
     "output_type": "display_data"
    },
    {
     "data": {
      "application/vnd.jupyter.widget-view+json": {
       "model_id": "c8eb34a348dd4824bca9303c7c304394",
       "version_major": 2,
       "version_minor": 0
      },
      "text/plain": [
       "learner loop:   0%|          | 0/4 [00:00<?, ?it/s]"
      ]
     },
     "metadata": {},
     "output_type": "display_data"
    },
    {
     "name": "stdout",
     "output_type": "stream",
     "text": [
      "x_train.shape (6, 15)\n",
      "x_test.shape: (120, 15)\n"
     ]
    },
    {
     "data": {
      "application/vnd.jupyter.widget-view+json": {
       "model_id": "01453b7da2d34588bf2ee5d6d9594213",
       "version_major": 2,
       "version_minor": 0
      },
      "text/plain": [
       "iter loop:   0%|          | 0/100 [00:00<?, ?it/s]"
      ]
     },
     "metadata": {},
     "output_type": "display_data"
    },
    {
     "name": "stdout",
     "output_type": "stream",
     "text": [
      "x_train.shape (6, 15)\n",
      "x_test.shape: (120, 15)\n"
     ]
    },
    {
     "data": {
      "application/vnd.jupyter.widget-view+json": {
       "model_id": "d2a4ffa9900d462496f77948e02e8acf",
       "version_major": 2,
       "version_minor": 0
      },
      "text/plain": [
       "iter loop:   0%|          | 0/100 [00:00<?, ?it/s]"
      ]
     },
     "metadata": {},
     "output_type": "display_data"
    },
    {
     "name": "stdout",
     "output_type": "stream",
     "text": [
      "x_train.shape (6, 15)\n",
      "x_test.shape: (120, 15)\n"
     ]
    },
    {
     "data": {
      "application/vnd.jupyter.widget-view+json": {
       "model_id": "99f219cbe659486582e55d26afcf4491",
       "version_major": 2,
       "version_minor": 0
      },
      "text/plain": [
       "iter loop:   0%|          | 0/100 [00:00<?, ?it/s]"
      ]
     },
     "metadata": {},
     "output_type": "display_data"
    },
    {
     "name": "stdout",
     "output_type": "stream",
     "text": [
      "x_train.shape (6, 15)\n",
      "x_test.shape: (120, 15)\n"
     ]
    },
    {
     "data": {
      "application/vnd.jupyter.widget-view+json": {
       "model_id": "ef8fb9f936cb44fc8d5a233f7873db27",
       "version_major": 2,
       "version_minor": 0
      },
      "text/plain": [
       "iter loop:   0%|          | 0/100 [00:00<?, ?it/s]"
      ]
     },
     "metadata": {},
     "output_type": "display_data"
    },
    {
     "data": {
      "application/vnd.jupyter.widget-view+json": {
       "model_id": "49786e981662478bb7a90d8f1974b56b",
       "version_major": 2,
       "version_minor": 0
      },
      "text/plain": [
       "learner loop:   0%|          | 0/4 [00:00<?, ?it/s]"
      ]
     },
     "metadata": {},
     "output_type": "display_data"
    },
    {
     "name": "stdout",
     "output_type": "stream",
     "text": [
      "x_train.shape (6, 15)\n",
      "x_test.shape: (120, 15)\n"
     ]
    },
    {
     "data": {
      "application/vnd.jupyter.widget-view+json": {
       "model_id": "c83e426c6ad843879ba3a870d1098eb9",
       "version_major": 2,
       "version_minor": 0
      },
      "text/plain": [
       "iter loop:   0%|          | 0/100 [00:00<?, ?it/s]"
      ]
     },
     "metadata": {},
     "output_type": "display_data"
    },
    {
     "name": "stdout",
     "output_type": "stream",
     "text": [
      "x_train.shape (6, 15)\n",
      "x_test.shape: (120, 15)\n"
     ]
    },
    {
     "data": {
      "application/vnd.jupyter.widget-view+json": {
       "model_id": "b1e1917f292444669594f4ed983dad4f",
       "version_major": 2,
       "version_minor": 0
      },
      "text/plain": [
       "iter loop:   0%|          | 0/100 [00:00<?, ?it/s]"
      ]
     },
     "metadata": {},
     "output_type": "display_data"
    },
    {
     "name": "stdout",
     "output_type": "stream",
     "text": [
      "x_train.shape (6, 15)\n",
      "x_test.shape: (120, 15)\n"
     ]
    },
    {
     "data": {
      "application/vnd.jupyter.widget-view+json": {
       "model_id": "13040b0e62fb4b05b6ec3068f14c041c",
       "version_major": 2,
       "version_minor": 0
      },
      "text/plain": [
       "iter loop:   0%|          | 0/100 [00:00<?, ?it/s]"
      ]
     },
     "metadata": {},
     "output_type": "display_data"
    },
    {
     "name": "stdout",
     "output_type": "stream",
     "text": [
      "x_train.shape (6, 15)\n",
      "x_test.shape: (120, 15)\n"
     ]
    },
    {
     "data": {
      "application/vnd.jupyter.widget-view+json": {
       "model_id": "aac359d9a30445bd85c77157f3f82e21",
       "version_major": 2,
       "version_minor": 0
      },
      "text/plain": [
       "iter loop:   0%|          | 0/100 [00:00<?, ?it/s]"
      ]
     },
     "metadata": {},
     "output_type": "display_data"
    },
    {
     "data": {
      "application/vnd.jupyter.widget-view+json": {
       "model_id": "0ab85649fc8a4a44a43cd8e63f65b041",
       "version_major": 2,
       "version_minor": 0
      },
      "text/plain": [
       "learner loop:   0%|          | 0/4 [00:00<?, ?it/s]"
      ]
     },
     "metadata": {},
     "output_type": "display_data"
    },
    {
     "name": "stdout",
     "output_type": "stream",
     "text": [
      "x_train.shape (6, 15)\n",
      "x_test.shape: (120, 15)\n"
     ]
    },
    {
     "data": {
      "application/vnd.jupyter.widget-view+json": {
       "model_id": "624579fc845342c9a8cc3e8a372a9892",
       "version_major": 2,
       "version_minor": 0
      },
      "text/plain": [
       "iter loop:   0%|          | 0/100 [00:00<?, ?it/s]"
      ]
     },
     "metadata": {},
     "output_type": "display_data"
    },
    {
     "name": "stdout",
     "output_type": "stream",
     "text": [
      "x_train.shape (6, 15)\n",
      "x_test.shape: (120, 15)\n"
     ]
    },
    {
     "data": {
      "application/vnd.jupyter.widget-view+json": {
       "model_id": "e4ed004dee984e6aa7e2e810ba7e2d49",
       "version_major": 2,
       "version_minor": 0
      },
      "text/plain": [
       "iter loop:   0%|          | 0/100 [00:00<?, ?it/s]"
      ]
     },
     "metadata": {},
     "output_type": "display_data"
    },
    {
     "name": "stdout",
     "output_type": "stream",
     "text": [
      "x_train.shape (6, 15)\n",
      "x_test.shape: (120, 15)\n"
     ]
    },
    {
     "data": {
      "application/vnd.jupyter.widget-view+json": {
       "model_id": "ca46db124feb47669e87397f65793432",
       "version_major": 2,
       "version_minor": 0
      },
      "text/plain": [
       "iter loop:   0%|          | 0/100 [00:00<?, ?it/s]"
      ]
     },
     "metadata": {},
     "output_type": "display_data"
    },
    {
     "name": "stdout",
     "output_type": "stream",
     "text": [
      "x_train.shape (6, 15)\n",
      "x_test.shape: (120, 15)\n"
     ]
    },
    {
     "data": {
      "application/vnd.jupyter.widget-view+json": {
       "model_id": "72c06c0579c34ab1b6a57f586199c240",
       "version_major": 2,
       "version_minor": 0
      },
      "text/plain": [
       "iter loop:   0%|          | 0/100 [00:00<?, ?it/s]"
      ]
     },
     "metadata": {},
     "output_type": "display_data"
    },
    {
     "data": {
      "application/vnd.jupyter.widget-view+json": {
       "model_id": "03eeb9b0bb524cdc94e0fa290ed18633",
       "version_major": 2,
       "version_minor": 0
      },
      "text/plain": [
       "learner loop:   0%|          | 0/4 [00:00<?, ?it/s]"
      ]
     },
     "metadata": {},
     "output_type": "display_data"
    },
    {
     "name": "stdout",
     "output_type": "stream",
     "text": [
      "x_train.shape (6, 15)\n",
      "x_test.shape: (120, 15)\n"
     ]
    },
    {
     "data": {
      "application/vnd.jupyter.widget-view+json": {
       "model_id": "628c18b0f9de41be9020c7176a87c2ed",
       "version_major": 2,
       "version_minor": 0
      },
      "text/plain": [
       "iter loop:   0%|          | 0/100 [00:00<?, ?it/s]"
      ]
     },
     "metadata": {},
     "output_type": "display_data"
    },
    {
     "name": "stdout",
     "output_type": "stream",
     "text": [
      "x_train.shape (6, 15)\n",
      "x_test.shape: (120, 15)\n"
     ]
    },
    {
     "data": {
      "application/vnd.jupyter.widget-view+json": {
       "model_id": "11ce0a74dca8418d911b8a12e4c83a69",
       "version_major": 2,
       "version_minor": 0
      },
      "text/plain": [
       "iter loop:   0%|          | 0/100 [00:00<?, ?it/s]"
      ]
     },
     "metadata": {},
     "output_type": "display_data"
    },
    {
     "name": "stdout",
     "output_type": "stream",
     "text": [
      "x_train.shape (6, 15)\n",
      "x_test.shape: (120, 15)\n"
     ]
    },
    {
     "data": {
      "application/vnd.jupyter.widget-view+json": {
       "model_id": "d86cafd97a7c492e840bfc533988460e",
       "version_major": 2,
       "version_minor": 0
      },
      "text/plain": [
       "iter loop:   0%|          | 0/100 [00:00<?, ?it/s]"
      ]
     },
     "metadata": {},
     "output_type": "display_data"
    },
    {
     "name": "stdout",
     "output_type": "stream",
     "text": [
      "x_train.shape (6, 15)\n",
      "x_test.shape: (120, 15)\n"
     ]
    },
    {
     "data": {
      "application/vnd.jupyter.widget-view+json": {
       "model_id": "50103f76a61e454393eddabdc14c36ed",
       "version_major": 2,
       "version_minor": 0
      },
      "text/plain": [
       "iter loop:   0%|          | 0/100 [00:00<?, ?it/s]"
      ]
     },
     "metadata": {},
     "output_type": "display_data"
    },
    {
     "data": {
      "application/vnd.jupyter.widget-view+json": {
       "model_id": "77856d13dd554c7db70fc26d7555c84a",
       "version_major": 2,
       "version_minor": 0
      },
      "text/plain": [
       "learner loop:   0%|          | 0/4 [00:00<?, ?it/s]"
      ]
     },
     "metadata": {},
     "output_type": "display_data"
    },
    {
     "name": "stdout",
     "output_type": "stream",
     "text": [
      "x_train.shape (6, 15)\n",
      "x_test.shape: (120, 15)\n"
     ]
    },
    {
     "data": {
      "application/vnd.jupyter.widget-view+json": {
       "model_id": "e0218dd08b294e15b4fb570689253fef",
       "version_major": 2,
       "version_minor": 0
      },
      "text/plain": [
       "iter loop:   0%|          | 0/100 [00:00<?, ?it/s]"
      ]
     },
     "metadata": {},
     "output_type": "display_data"
    },
    {
     "name": "stdout",
     "output_type": "stream",
     "text": [
      "x_train.shape (6, 15)\n",
      "x_test.shape: (120, 15)\n"
     ]
    },
    {
     "data": {
      "application/vnd.jupyter.widget-view+json": {
       "model_id": "3cc88758714d48fdb3c985a50960aa7a",
       "version_major": 2,
       "version_minor": 0
      },
      "text/plain": [
       "iter loop:   0%|          | 0/100 [00:00<?, ?it/s]"
      ]
     },
     "metadata": {},
     "output_type": "display_data"
    },
    {
     "name": "stdout",
     "output_type": "stream",
     "text": [
      "x_train.shape (6, 15)\n",
      "x_test.shape: (120, 15)\n"
     ]
    },
    {
     "data": {
      "application/vnd.jupyter.widget-view+json": {
       "model_id": "1aa9208d7fac4a21b8c943cf1d4ba3e0",
       "version_major": 2,
       "version_minor": 0
      },
      "text/plain": [
       "iter loop:   0%|          | 0/100 [00:00<?, ?it/s]"
      ]
     },
     "metadata": {},
     "output_type": "display_data"
    },
    {
     "name": "stdout",
     "output_type": "stream",
     "text": [
      "x_train.shape (6, 15)\n",
      "x_test.shape: (120, 15)\n"
     ]
    },
    {
     "data": {
      "application/vnd.jupyter.widget-view+json": {
       "model_id": "b7c30ebc297d4cba9bcb51edb601b273",
       "version_major": 2,
       "version_minor": 0
      },
      "text/plain": [
       "iter loop:   0%|          | 0/100 [00:00<?, ?it/s]"
      ]
     },
     "metadata": {},
     "output_type": "display_data"
    },
    {
     "data": {
      "application/vnd.jupyter.widget-view+json": {
       "model_id": "65598a37618d4e80a145fa21df2d9585",
       "version_major": 2,
       "version_minor": 0
      },
      "text/plain": [
       "learner loop:   0%|          | 0/4 [00:00<?, ?it/s]"
      ]
     },
     "metadata": {},
     "output_type": "display_data"
    },
    {
     "name": "stdout",
     "output_type": "stream",
     "text": [
      "x_train.shape (6, 15)\n",
      "x_test.shape: (120, 15)\n"
     ]
    },
    {
     "data": {
      "application/vnd.jupyter.widget-view+json": {
       "model_id": "ec63ba9eaf27405ca0bc8da747f45741",
       "version_major": 2,
       "version_minor": 0
      },
      "text/plain": [
       "iter loop:   0%|          | 0/100 [00:00<?, ?it/s]"
      ]
     },
     "metadata": {},
     "output_type": "display_data"
    },
    {
     "name": "stdout",
     "output_type": "stream",
     "text": [
      "x_train.shape (6, 15)\n",
      "x_test.shape: (120, 15)\n"
     ]
    },
    {
     "data": {
      "application/vnd.jupyter.widget-view+json": {
       "model_id": "6074d28c075345dea1a528de8848db6d",
       "version_major": 2,
       "version_minor": 0
      },
      "text/plain": [
       "iter loop:   0%|          | 0/100 [00:00<?, ?it/s]"
      ]
     },
     "metadata": {},
     "output_type": "display_data"
    },
    {
     "name": "stdout",
     "output_type": "stream",
     "text": [
      "x_train.shape (6, 15)\n",
      "x_test.shape: (120, 15)\n"
     ]
    },
    {
     "data": {
      "application/vnd.jupyter.widget-view+json": {
       "model_id": "db299610834e450da65a97e9db3a7e42",
       "version_major": 2,
       "version_minor": 0
      },
      "text/plain": [
       "iter loop:   0%|          | 0/100 [00:00<?, ?it/s]"
      ]
     },
     "metadata": {},
     "output_type": "display_data"
    },
    {
     "name": "stdout",
     "output_type": "stream",
     "text": [
      "x_train.shape (6, 15)\n",
      "x_test.shape: (120, 15)\n"
     ]
    },
    {
     "data": {
      "application/vnd.jupyter.widget-view+json": {
       "model_id": "fc1b227893df44a2afd2b33b9d4899ec",
       "version_major": 2,
       "version_minor": 0
      },
      "text/plain": [
       "iter loop:   0%|          | 0/100 [00:00<?, ?it/s]"
      ]
     },
     "metadata": {},
     "output_type": "display_data"
    },
    {
     "data": {
      "application/vnd.jupyter.widget-view+json": {
       "model_id": "d03628f7805e4692b7e8efe39aac84a8",
       "version_major": 2,
       "version_minor": 0
      },
      "text/plain": [
       "learner loop:   0%|          | 0/4 [00:00<?, ?it/s]"
      ]
     },
     "metadata": {},
     "output_type": "display_data"
    },
    {
     "name": "stdout",
     "output_type": "stream",
     "text": [
      "x_train.shape (6, 15)\n",
      "x_test.shape: (120, 15)\n"
     ]
    },
    {
     "data": {
      "application/vnd.jupyter.widget-view+json": {
       "model_id": "529dc0dd95b44e23bfa9d815927adec5",
       "version_major": 2,
       "version_minor": 0
      },
      "text/plain": [
       "iter loop:   0%|          | 0/100 [00:00<?, ?it/s]"
      ]
     },
     "metadata": {},
     "output_type": "display_data"
    },
    {
     "name": "stdout",
     "output_type": "stream",
     "text": [
      "x_train.shape (6, 15)\n",
      "x_test.shape: (120, 15)\n"
     ]
    },
    {
     "data": {
      "application/vnd.jupyter.widget-view+json": {
       "model_id": "abcd1164515e4c80afb4ee58454a5726",
       "version_major": 2,
       "version_minor": 0
      },
      "text/plain": [
       "iter loop:   0%|          | 0/100 [00:00<?, ?it/s]"
      ]
     },
     "metadata": {},
     "output_type": "display_data"
    },
    {
     "name": "stdout",
     "output_type": "stream",
     "text": [
      "x_train.shape (6, 15)\n",
      "x_test.shape: (120, 15)\n"
     ]
    },
    {
     "data": {
      "application/vnd.jupyter.widget-view+json": {
       "model_id": "12b068d8fc5c49d983df91fa83aa5925",
       "version_major": 2,
       "version_minor": 0
      },
      "text/plain": [
       "iter loop:   0%|          | 0/100 [00:00<?, ?it/s]"
      ]
     },
     "metadata": {},
     "output_type": "display_data"
    },
    {
     "name": "stdout",
     "output_type": "stream",
     "text": [
      "x_train.shape (6, 15)\n",
      "x_test.shape: (120, 15)\n"
     ]
    },
    {
     "data": {
      "application/vnd.jupyter.widget-view+json": {
       "model_id": "9c0a7940dd8f40c09f788836702da4f9",
       "version_major": 2,
       "version_minor": 0
      },
      "text/plain": [
       "iter loop:   0%|          | 0/100 [00:00<?, ?it/s]"
      ]
     },
     "metadata": {},
     "output_type": "display_data"
    },
    {
     "data": {
      "application/vnd.jupyter.widget-view+json": {
       "model_id": "10d1ff82515746fa8d900b1cee058e58",
       "version_major": 2,
       "version_minor": 0
      },
      "text/plain": [
       "learner loop:   0%|          | 0/4 [00:00<?, ?it/s]"
      ]
     },
     "metadata": {},
     "output_type": "display_data"
    },
    {
     "name": "stdout",
     "output_type": "stream",
     "text": [
      "x_train.shape (6, 15)\n",
      "x_test.shape: (120, 15)\n"
     ]
    },
    {
     "data": {
      "application/vnd.jupyter.widget-view+json": {
       "model_id": "bc7fc1522aa744fe8e16a2f5eeb2ba2e",
       "version_major": 2,
       "version_minor": 0
      },
      "text/plain": [
       "iter loop:   0%|          | 0/100 [00:00<?, ?it/s]"
      ]
     },
     "metadata": {},
     "output_type": "display_data"
    },
    {
     "name": "stdout",
     "output_type": "stream",
     "text": [
      "x_train.shape (6, 15)\n",
      "x_test.shape: (120, 15)\n"
     ]
    },
    {
     "data": {
      "application/vnd.jupyter.widget-view+json": {
       "model_id": "d75d3fb34f084d74a82c324b62b70828",
       "version_major": 2,
       "version_minor": 0
      },
      "text/plain": [
       "iter loop:   0%|          | 0/100 [00:00<?, ?it/s]"
      ]
     },
     "metadata": {},
     "output_type": "display_data"
    },
    {
     "name": "stdout",
     "output_type": "stream",
     "text": [
      "x_train.shape (6, 15)\n",
      "x_test.shape: (120, 15)\n"
     ]
    },
    {
     "data": {
      "application/vnd.jupyter.widget-view+json": {
       "model_id": "29b2f2c1dbb74c92a0b7a4b033d0fb1b",
       "version_major": 2,
       "version_minor": 0
      },
      "text/plain": [
       "iter loop:   0%|          | 0/100 [00:00<?, ?it/s]"
      ]
     },
     "metadata": {},
     "output_type": "display_data"
    },
    {
     "name": "stdout",
     "output_type": "stream",
     "text": [
      "x_train.shape (6, 15)\n",
      "x_test.shape: (120, 15)\n"
     ]
    },
    {
     "data": {
      "application/vnd.jupyter.widget-view+json": {
       "model_id": "6923bd8fb10c41ef82e47f71ce9769b1",
       "version_major": 2,
       "version_minor": 0
      },
      "text/plain": [
       "iter loop:   0%|          | 0/100 [00:00<?, ?it/s]"
      ]
     },
     "metadata": {},
     "output_type": "display_data"
    },
    {
     "data": {
      "application/vnd.jupyter.widget-view+json": {
       "model_id": "ab19db536b1d4d1ba2d13c826a289278",
       "version_major": 2,
       "version_minor": 0
      },
      "text/plain": [
       "learner loop:   0%|          | 0/4 [00:00<?, ?it/s]"
      ]
     },
     "metadata": {},
     "output_type": "display_data"
    },
    {
     "name": "stdout",
     "output_type": "stream",
     "text": [
      "x_train.shape (6, 15)\n",
      "x_test.shape: (120, 15)\n"
     ]
    },
    {
     "data": {
      "application/vnd.jupyter.widget-view+json": {
       "model_id": "e8373e9081644a1aad363c780f74fb55",
       "version_major": 2,
       "version_minor": 0
      },
      "text/plain": [
       "iter loop:   0%|          | 0/100 [00:00<?, ?it/s]"
      ]
     },
     "metadata": {},
     "output_type": "display_data"
    },
    {
     "name": "stdout",
     "output_type": "stream",
     "text": [
      "x_train.shape (6, 15)\n",
      "x_test.shape: (120, 15)\n"
     ]
    },
    {
     "data": {
      "application/vnd.jupyter.widget-view+json": {
       "model_id": "3d53d9cbd06c4fe7b71c7f4afc5dfa39",
       "version_major": 2,
       "version_minor": 0
      },
      "text/plain": [
       "iter loop:   0%|          | 0/100 [00:00<?, ?it/s]"
      ]
     },
     "metadata": {},
     "output_type": "display_data"
    },
    {
     "name": "stdout",
     "output_type": "stream",
     "text": [
      "x_train.shape (6, 15)\n",
      "x_test.shape: (120, 15)\n"
     ]
    },
    {
     "data": {
      "application/vnd.jupyter.widget-view+json": {
       "model_id": "99045d41f32e4a14a324e0d352742295",
       "version_major": 2,
       "version_minor": 0
      },
      "text/plain": [
       "iter loop:   0%|          | 0/100 [00:00<?, ?it/s]"
      ]
     },
     "metadata": {},
     "output_type": "display_data"
    },
    {
     "name": "stdout",
     "output_type": "stream",
     "text": [
      "x_train.shape (6, 15)\n",
      "x_test.shape: (120, 15)\n"
     ]
    },
    {
     "data": {
      "application/vnd.jupyter.widget-view+json": {
       "model_id": "4543e658529d44faaf44256c4a24cdae",
       "version_major": 2,
       "version_minor": 0
      },
      "text/plain": [
       "iter loop:   0%|          | 0/100 [00:00<?, ?it/s]"
      ]
     },
     "metadata": {},
     "output_type": "display_data"
    },
    {
     "data": {
      "application/vnd.jupyter.widget-view+json": {
       "model_id": "807597bbd5a04480b478cf7519820c7a",
       "version_major": 2,
       "version_minor": 0
      },
      "text/plain": [
       "learner loop:   0%|          | 0/4 [00:00<?, ?it/s]"
      ]
     },
     "metadata": {},
     "output_type": "display_data"
    },
    {
     "name": "stdout",
     "output_type": "stream",
     "text": [
      "x_train.shape (6, 15)\n",
      "x_test.shape: (120, 15)\n"
     ]
    },
    {
     "data": {
      "application/vnd.jupyter.widget-view+json": {
       "model_id": "af51196686ff4e6c9e5b570729593bb8",
       "version_major": 2,
       "version_minor": 0
      },
      "text/plain": [
       "iter loop:   0%|          | 0/100 [00:00<?, ?it/s]"
      ]
     },
     "metadata": {},
     "output_type": "display_data"
    },
    {
     "name": "stdout",
     "output_type": "stream",
     "text": [
      "x_train.shape (6, 15)\n",
      "x_test.shape: (120, 15)\n"
     ]
    },
    {
     "data": {
      "application/vnd.jupyter.widget-view+json": {
       "model_id": "9955be81d3f84257bf6ba8ccabdf50df",
       "version_major": 2,
       "version_minor": 0
      },
      "text/plain": [
       "iter loop:   0%|          | 0/100 [00:00<?, ?it/s]"
      ]
     },
     "metadata": {},
     "output_type": "display_data"
    },
    {
     "name": "stdout",
     "output_type": "stream",
     "text": [
      "x_train.shape (6, 15)\n",
      "x_test.shape: (120, 15)\n"
     ]
    },
    {
     "data": {
      "application/vnd.jupyter.widget-view+json": {
       "model_id": "93d9d3b06cf443298b998627e7a071ab",
       "version_major": 2,
       "version_minor": 0
      },
      "text/plain": [
       "iter loop:   0%|          | 0/100 [00:00<?, ?it/s]"
      ]
     },
     "metadata": {},
     "output_type": "display_data"
    },
    {
     "name": "stdout",
     "output_type": "stream",
     "text": [
      "x_train.shape (6, 15)\n",
      "x_test.shape: (120, 15)\n"
     ]
    },
    {
     "data": {
      "application/vnd.jupyter.widget-view+json": {
       "model_id": "7b1f661834d346ddafab23a43b71a0e2",
       "version_major": 2,
       "version_minor": 0
      },
      "text/plain": [
       "iter loop:   0%|          | 0/100 [00:00<?, ?it/s]"
      ]
     },
     "metadata": {},
     "output_type": "display_data"
    },
    {
     "data": {
      "application/vnd.jupyter.widget-view+json": {
       "model_id": "a3d21d6e97d247dba6f2cb959d0640ea",
       "version_major": 2,
       "version_minor": 0
      },
      "text/plain": [
       "learner loop:   0%|          | 0/4 [00:00<?, ?it/s]"
      ]
     },
     "metadata": {},
     "output_type": "display_data"
    },
    {
     "name": "stdout",
     "output_type": "stream",
     "text": [
      "x_train.shape (6, 15)\n",
      "x_test.shape: (120, 15)\n"
     ]
    },
    {
     "data": {
      "application/vnd.jupyter.widget-view+json": {
       "model_id": "0a3b71aca9e44d7d9453dd5e90e6f0db",
       "version_major": 2,
       "version_minor": 0
      },
      "text/plain": [
       "iter loop:   0%|          | 0/100 [00:00<?, ?it/s]"
      ]
     },
     "metadata": {},
     "output_type": "display_data"
    },
    {
     "name": "stdout",
     "output_type": "stream",
     "text": [
      "x_train.shape (6, 15)\n",
      "x_test.shape: (120, 15)\n"
     ]
    },
    {
     "data": {
      "application/vnd.jupyter.widget-view+json": {
       "model_id": "dc4ed058a1a54578b200e9b6fc1aad10",
       "version_major": 2,
       "version_minor": 0
      },
      "text/plain": [
       "iter loop:   0%|          | 0/100 [00:00<?, ?it/s]"
      ]
     },
     "metadata": {},
     "output_type": "display_data"
    },
    {
     "name": "stdout",
     "output_type": "stream",
     "text": [
      "x_train.shape (6, 15)\n",
      "x_test.shape: (120, 15)\n"
     ]
    },
    {
     "data": {
      "application/vnd.jupyter.widget-view+json": {
       "model_id": "c7bb5b4a80784dd3a7344f73b3c00bd4",
       "version_major": 2,
       "version_minor": 0
      },
      "text/plain": [
       "iter loop:   0%|          | 0/100 [00:00<?, ?it/s]"
      ]
     },
     "metadata": {},
     "output_type": "display_data"
    },
    {
     "name": "stdout",
     "output_type": "stream",
     "text": [
      "x_train.shape (6, 15)\n",
      "x_test.shape: (120, 15)\n"
     ]
    },
    {
     "data": {
      "application/vnd.jupyter.widget-view+json": {
       "model_id": "5195fccbfde64a06b9acd136ebf09085",
       "version_major": 2,
       "version_minor": 0
      },
      "text/plain": [
       "iter loop:   0%|          | 0/100 [00:00<?, ?it/s]"
      ]
     },
     "metadata": {},
     "output_type": "display_data"
    },
    {
     "data": {
      "application/vnd.jupyter.widget-view+json": {
       "model_id": "4ab7c8eac1684c799cf584bb94e71f9e",
       "version_major": 2,
       "version_minor": 0
      },
      "text/plain": [
       "learner loop:   0%|          | 0/4 [00:00<?, ?it/s]"
      ]
     },
     "metadata": {},
     "output_type": "display_data"
    },
    {
     "name": "stdout",
     "output_type": "stream",
     "text": [
      "x_train.shape (6, 15)\n",
      "x_test.shape: (120, 15)\n"
     ]
    },
    {
     "data": {
      "application/vnd.jupyter.widget-view+json": {
       "model_id": "baa8d4d1915f47a59c4fc7a9c8343a23",
       "version_major": 2,
       "version_minor": 0
      },
      "text/plain": [
       "iter loop:   0%|          | 0/100 [00:00<?, ?it/s]"
      ]
     },
     "metadata": {},
     "output_type": "display_data"
    },
    {
     "name": "stdout",
     "output_type": "stream",
     "text": [
      "x_train.shape (6, 15)\n",
      "x_test.shape: (120, 15)\n"
     ]
    },
    {
     "data": {
      "application/vnd.jupyter.widget-view+json": {
       "model_id": "10d184608c964d24b3aef8d865655e5f",
       "version_major": 2,
       "version_minor": 0
      },
      "text/plain": [
       "iter loop:   0%|          | 0/100 [00:00<?, ?it/s]"
      ]
     },
     "metadata": {},
     "output_type": "display_data"
    },
    {
     "name": "stdout",
     "output_type": "stream",
     "text": [
      "x_train.shape (6, 15)\n",
      "x_test.shape: (120, 15)\n"
     ]
    },
    {
     "data": {
      "application/vnd.jupyter.widget-view+json": {
       "model_id": "9f4e34e601594e5690cf6d8a745ae3f4",
       "version_major": 2,
       "version_minor": 0
      },
      "text/plain": [
       "iter loop:   0%|          | 0/100 [00:00<?, ?it/s]"
      ]
     },
     "metadata": {},
     "output_type": "display_data"
    },
    {
     "name": "stdout",
     "output_type": "stream",
     "text": [
      "x_train.shape (6, 15)\n",
      "x_test.shape: (120, 15)\n"
     ]
    },
    {
     "data": {
      "application/vnd.jupyter.widget-view+json": {
       "model_id": "28f0eb2f42b444148c934db8d6ce871b",
       "version_major": 2,
       "version_minor": 0
      },
      "text/plain": [
       "iter loop:   0%|          | 0/100 [00:00<?, ?it/s]"
      ]
     },
     "metadata": {},
     "output_type": "display_data"
    },
    {
     "data": {
      "application/vnd.jupyter.widget-view+json": {
       "model_id": "0cf42628bb694c8e8bcf97ea71e481ae",
       "version_major": 2,
       "version_minor": 0
      },
      "text/plain": [
       "learner loop:   0%|          | 0/4 [00:00<?, ?it/s]"
      ]
     },
     "metadata": {},
     "output_type": "display_data"
    },
    {
     "name": "stdout",
     "output_type": "stream",
     "text": [
      "x_train.shape (6, 15)\n",
      "x_test.shape: (120, 15)\n"
     ]
    },
    {
     "data": {
      "application/vnd.jupyter.widget-view+json": {
       "model_id": "2e1de1c33dd4433abfda5790b1045fca",
       "version_major": 2,
       "version_minor": 0
      },
      "text/plain": [
       "iter loop:   0%|          | 0/100 [00:00<?, ?it/s]"
      ]
     },
     "metadata": {},
     "output_type": "display_data"
    },
    {
     "name": "stdout",
     "output_type": "stream",
     "text": [
      "x_train.shape (6, 15)\n",
      "x_test.shape: (120, 15)\n"
     ]
    },
    {
     "data": {
      "application/vnd.jupyter.widget-view+json": {
       "model_id": "ccf75f5ed98f45359758648bbacc524e",
       "version_major": 2,
       "version_minor": 0
      },
      "text/plain": [
       "iter loop:   0%|          | 0/100 [00:00<?, ?it/s]"
      ]
     },
     "metadata": {},
     "output_type": "display_data"
    },
    {
     "name": "stdout",
     "output_type": "stream",
     "text": [
      "x_train.shape (6, 15)\n",
      "x_test.shape: (120, 15)\n"
     ]
    },
    {
     "data": {
      "application/vnd.jupyter.widget-view+json": {
       "model_id": "cd0bca3e3bb24fe3ba9cf71f54e3f513",
       "version_major": 2,
       "version_minor": 0
      },
      "text/plain": [
       "iter loop:   0%|          | 0/100 [00:00<?, ?it/s]"
      ]
     },
     "metadata": {},
     "output_type": "display_data"
    },
    {
     "name": "stdout",
     "output_type": "stream",
     "text": [
      "x_train.shape (6, 15)\n",
      "x_test.shape: (120, 15)\n"
     ]
    },
    {
     "data": {
      "application/vnd.jupyter.widget-view+json": {
       "model_id": "8944460c7d0a4106821b9727981ef9a1",
       "version_major": 2,
       "version_minor": 0
      },
      "text/plain": [
       "iter loop:   0%|          | 0/100 [00:00<?, ?it/s]"
      ]
     },
     "metadata": {},
     "output_type": "display_data"
    },
    {
     "data": {
      "application/vnd.jupyter.widget-view+json": {
       "model_id": "f143596dad624048b5b01cd9c20cb56b",
       "version_major": 2,
       "version_minor": 0
      },
      "text/plain": [
       "learner loop:   0%|          | 0/4 [00:00<?, ?it/s]"
      ]
     },
     "metadata": {},
     "output_type": "display_data"
    },
    {
     "name": "stdout",
     "output_type": "stream",
     "text": [
      "x_train.shape (6, 15)\n",
      "x_test.shape: (120, 15)\n"
     ]
    },
    {
     "data": {
      "application/vnd.jupyter.widget-view+json": {
       "model_id": "84e8baf256d341d2907dcfff45096c27",
       "version_major": 2,
       "version_minor": 0
      },
      "text/plain": [
       "iter loop:   0%|          | 0/100 [00:00<?, ?it/s]"
      ]
     },
     "metadata": {},
     "output_type": "display_data"
    },
    {
     "name": "stdout",
     "output_type": "stream",
     "text": [
      "x_train.shape (6, 15)\n",
      "x_test.shape: (120, 15)\n"
     ]
    },
    {
     "data": {
      "application/vnd.jupyter.widget-view+json": {
       "model_id": "44c4f6d12e9f4d248b82b50d982a31bd",
       "version_major": 2,
       "version_minor": 0
      },
      "text/plain": [
       "iter loop:   0%|          | 0/100 [00:00<?, ?it/s]"
      ]
     },
     "metadata": {},
     "output_type": "display_data"
    },
    {
     "name": "stdout",
     "output_type": "stream",
     "text": [
      "x_train.shape (6, 15)\n",
      "x_test.shape: (120, 15)\n"
     ]
    },
    {
     "data": {
      "application/vnd.jupyter.widget-view+json": {
       "model_id": "6f572c87f93e4b9a99a5f975fcff9fbe",
       "version_major": 2,
       "version_minor": 0
      },
      "text/plain": [
       "iter loop:   0%|          | 0/100 [00:00<?, ?it/s]"
      ]
     },
     "metadata": {},
     "output_type": "display_data"
    },
    {
     "name": "stdout",
     "output_type": "stream",
     "text": [
      "x_train.shape (6, 15)\n",
      "x_test.shape: (120, 15)\n"
     ]
    },
    {
     "data": {
      "application/vnd.jupyter.widget-view+json": {
       "model_id": "ef2ffa5fd09a478f9d3f9d24a6f811a6",
       "version_major": 2,
       "version_minor": 0
      },
      "text/plain": [
       "iter loop:   0%|          | 0/100 [00:00<?, ?it/s]"
      ]
     },
     "metadata": {},
     "output_type": "display_data"
    },
    {
     "data": {
      "application/vnd.jupyter.widget-view+json": {
       "model_id": "36a427eac9c54872b2fe1b64ff9b004c",
       "version_major": 2,
       "version_minor": 0
      },
      "text/plain": [
       "learner loop:   0%|          | 0/4 [00:00<?, ?it/s]"
      ]
     },
     "metadata": {},
     "output_type": "display_data"
    },
    {
     "name": "stdout",
     "output_type": "stream",
     "text": [
      "x_train.shape (6, 15)\n",
      "x_test.shape: (120, 15)\n"
     ]
    },
    {
     "data": {
      "application/vnd.jupyter.widget-view+json": {
       "model_id": "bce22cccd5054ff7994bb0f8c1aaf99d",
       "version_major": 2,
       "version_minor": 0
      },
      "text/plain": [
       "iter loop:   0%|          | 0/100 [00:00<?, ?it/s]"
      ]
     },
     "metadata": {},
     "output_type": "display_data"
    },
    {
     "name": "stdout",
     "output_type": "stream",
     "text": [
      "x_train.shape (6, 15)\n",
      "x_test.shape: (120, 15)\n"
     ]
    },
    {
     "data": {
      "application/vnd.jupyter.widget-view+json": {
       "model_id": "c48d434931a1443cae1c87b2b1947ae0",
       "version_major": 2,
       "version_minor": 0
      },
      "text/plain": [
       "iter loop:   0%|          | 0/100 [00:00<?, ?it/s]"
      ]
     },
     "metadata": {},
     "output_type": "display_data"
    },
    {
     "name": "stdout",
     "output_type": "stream",
     "text": [
      "x_train.shape (6, 15)\n",
      "x_test.shape: (120, 15)\n"
     ]
    },
    {
     "data": {
      "application/vnd.jupyter.widget-view+json": {
       "model_id": "b90db642a36e415ba245511c44adcd5e",
       "version_major": 2,
       "version_minor": 0
      },
      "text/plain": [
       "iter loop:   0%|          | 0/100 [00:00<?, ?it/s]"
      ]
     },
     "metadata": {},
     "output_type": "display_data"
    },
    {
     "name": "stdout",
     "output_type": "stream",
     "text": [
      "x_train.shape (6, 15)\n",
      "x_test.shape: (120, 15)\n"
     ]
    },
    {
     "data": {
      "application/vnd.jupyter.widget-view+json": {
       "model_id": "302861f0b92244498645d00bda6823ba",
       "version_major": 2,
       "version_minor": 0
      },
      "text/plain": [
       "iter loop:   0%|          | 0/100 [00:00<?, ?it/s]"
      ]
     },
     "metadata": {},
     "output_type": "display_data"
    },
    {
     "data": {
      "application/vnd.jupyter.widget-view+json": {
       "model_id": "1456902567ff4673b4097cf914a7d9bf",
       "version_major": 2,
       "version_minor": 0
      },
      "text/plain": [
       "learner loop:   0%|          | 0/4 [00:00<?, ?it/s]"
      ]
     },
     "metadata": {},
     "output_type": "display_data"
    },
    {
     "name": "stdout",
     "output_type": "stream",
     "text": [
      "x_train.shape (6, 15)\n",
      "x_test.shape: (120, 15)\n"
     ]
    },
    {
     "data": {
      "application/vnd.jupyter.widget-view+json": {
       "model_id": "8aa8e836efc24782b182b6f96ef74378",
       "version_major": 2,
       "version_minor": 0
      },
      "text/plain": [
       "iter loop:   0%|          | 0/100 [00:00<?, ?it/s]"
      ]
     },
     "metadata": {},
     "output_type": "display_data"
    },
    {
     "name": "stdout",
     "output_type": "stream",
     "text": [
      "x_train.shape (6, 15)\n",
      "x_test.shape: (120, 15)\n"
     ]
    },
    {
     "data": {
      "application/vnd.jupyter.widget-view+json": {
       "model_id": "1c254e3d7c474e149f94621fabc45ae5",
       "version_major": 2,
       "version_minor": 0
      },
      "text/plain": [
       "iter loop:   0%|          | 0/100 [00:00<?, ?it/s]"
      ]
     },
     "metadata": {},
     "output_type": "display_data"
    },
    {
     "name": "stdout",
     "output_type": "stream",
     "text": [
      "x_train.shape (6, 15)\n",
      "x_test.shape: (120, 15)\n"
     ]
    },
    {
     "data": {
      "application/vnd.jupyter.widget-view+json": {
       "model_id": "0287831590ef43ff8c2c9e31ca5c88e2",
       "version_major": 2,
       "version_minor": 0
      },
      "text/plain": [
       "iter loop:   0%|          | 0/100 [00:00<?, ?it/s]"
      ]
     },
     "metadata": {},
     "output_type": "display_data"
    },
    {
     "name": "stdout",
     "output_type": "stream",
     "text": [
      "x_train.shape (6, 15)\n",
      "x_test.shape: (120, 15)\n"
     ]
    },
    {
     "data": {
      "application/vnd.jupyter.widget-view+json": {
       "model_id": "1650affd586840b1a6bd693b8c45daec",
       "version_major": 2,
       "version_minor": 0
      },
      "text/plain": [
       "iter loop:   0%|          | 0/100 [00:00<?, ?it/s]"
      ]
     },
     "metadata": {},
     "output_type": "display_data"
    },
    {
     "data": {
      "application/vnd.jupyter.widget-view+json": {
       "model_id": "032abc4617a040e48fc769710fcd2c25",
       "version_major": 2,
       "version_minor": 0
      },
      "text/plain": [
       "learner loop:   0%|          | 0/4 [00:00<?, ?it/s]"
      ]
     },
     "metadata": {},
     "output_type": "display_data"
    },
    {
     "name": "stdout",
     "output_type": "stream",
     "text": [
      "x_train.shape (6, 15)\n",
      "x_test.shape: (120, 15)\n"
     ]
    },
    {
     "data": {
      "application/vnd.jupyter.widget-view+json": {
       "model_id": "edab16fa3e7f48a3ac6eeed13faf54dd",
       "version_major": 2,
       "version_minor": 0
      },
      "text/plain": [
       "iter loop:   0%|          | 0/100 [00:00<?, ?it/s]"
      ]
     },
     "metadata": {},
     "output_type": "display_data"
    },
    {
     "name": "stdout",
     "output_type": "stream",
     "text": [
      "x_train.shape (6, 15)\n",
      "x_test.shape: (120, 15)\n"
     ]
    },
    {
     "data": {
      "application/vnd.jupyter.widget-view+json": {
       "model_id": "3196ae0d159e4e7cb1cc6c24b78cedb8",
       "version_major": 2,
       "version_minor": 0
      },
      "text/plain": [
       "iter loop:   0%|          | 0/100 [00:00<?, ?it/s]"
      ]
     },
     "metadata": {},
     "output_type": "display_data"
    },
    {
     "name": "stdout",
     "output_type": "stream",
     "text": [
      "x_train.shape (6, 15)\n",
      "x_test.shape: (120, 15)\n"
     ]
    },
    {
     "data": {
      "application/vnd.jupyter.widget-view+json": {
       "model_id": "c3fb6f6d92a94410a414083c125bb949",
       "version_major": 2,
       "version_minor": 0
      },
      "text/plain": [
       "iter loop:   0%|          | 0/100 [00:00<?, ?it/s]"
      ]
     },
     "metadata": {},
     "output_type": "display_data"
    },
    {
     "name": "stdout",
     "output_type": "stream",
     "text": [
      "x_train.shape (6, 15)\n",
      "x_test.shape: (120, 15)\n"
     ]
    },
    {
     "data": {
      "application/vnd.jupyter.widget-view+json": {
       "model_id": "43313998eb4548209f97d8a584006972",
       "version_major": 2,
       "version_minor": 0
      },
      "text/plain": [
       "iter loop:   0%|          | 0/100 [00:00<?, ?it/s]"
      ]
     },
     "metadata": {},
     "output_type": "display_data"
    },
    {
     "data": {
      "application/vnd.jupyter.widget-view+json": {
       "model_id": "36f099833bb24060a26a5b5b15514cda",
       "version_major": 2,
       "version_minor": 0
      },
      "text/plain": [
       "learner loop:   0%|          | 0/4 [00:00<?, ?it/s]"
      ]
     },
     "metadata": {},
     "output_type": "display_data"
    },
    {
     "name": "stdout",
     "output_type": "stream",
     "text": [
      "x_train.shape (6, 15)\n",
      "x_test.shape: (120, 15)\n"
     ]
    },
    {
     "data": {
      "application/vnd.jupyter.widget-view+json": {
       "model_id": "fd354a02d7b54789a13f5bfec622469d",
       "version_major": 2,
       "version_minor": 0
      },
      "text/plain": [
       "iter loop:   0%|          | 0/100 [00:00<?, ?it/s]"
      ]
     },
     "metadata": {},
     "output_type": "display_data"
    },
    {
     "name": "stdout",
     "output_type": "stream",
     "text": [
      "x_train.shape (6, 15)\n",
      "x_test.shape: (120, 15)\n"
     ]
    },
    {
     "data": {
      "application/vnd.jupyter.widget-view+json": {
       "model_id": "fc748e67769446fbbc2490eb2bbbfb72",
       "version_major": 2,
       "version_minor": 0
      },
      "text/plain": [
       "iter loop:   0%|          | 0/100 [00:00<?, ?it/s]"
      ]
     },
     "metadata": {},
     "output_type": "display_data"
    },
    {
     "name": "stdout",
     "output_type": "stream",
     "text": [
      "x_train.shape (6, 15)\n",
      "x_test.shape: (120, 15)\n"
     ]
    },
    {
     "data": {
      "application/vnd.jupyter.widget-view+json": {
       "model_id": "a853136fd0c94ef2b0afadd89303da59",
       "version_major": 2,
       "version_minor": 0
      },
      "text/plain": [
       "iter loop:   0%|          | 0/100 [00:00<?, ?it/s]"
      ]
     },
     "metadata": {},
     "output_type": "display_data"
    },
    {
     "name": "stdout",
     "output_type": "stream",
     "text": [
      "x_train.shape (6, 15)\n",
      "x_test.shape: (120, 15)\n"
     ]
    },
    {
     "data": {
      "application/vnd.jupyter.widget-view+json": {
       "model_id": "14235bd18db74a7bbdfa553fd4d0e7c3",
       "version_major": 2,
       "version_minor": 0
      },
      "text/plain": [
       "iter loop:   0%|          | 0/100 [00:00<?, ?it/s]"
      ]
     },
     "metadata": {},
     "output_type": "display_data"
    },
    {
     "data": {
      "application/vnd.jupyter.widget-view+json": {
       "model_id": "11d80fb437fc49028e2a42fc546132da",
       "version_major": 2,
       "version_minor": 0
      },
      "text/plain": [
       "learner loop:   0%|          | 0/4 [00:00<?, ?it/s]"
      ]
     },
     "metadata": {},
     "output_type": "display_data"
    },
    {
     "name": "stdout",
     "output_type": "stream",
     "text": [
      "x_train.shape (6, 15)\n",
      "x_test.shape: (120, 15)\n"
     ]
    },
    {
     "data": {
      "application/vnd.jupyter.widget-view+json": {
       "model_id": "94da1ee76d564d1ba92895c8f9f587a1",
       "version_major": 2,
       "version_minor": 0
      },
      "text/plain": [
       "iter loop:   0%|          | 0/100 [00:00<?, ?it/s]"
      ]
     },
     "metadata": {},
     "output_type": "display_data"
    },
    {
     "name": "stdout",
     "output_type": "stream",
     "text": [
      "x_train.shape (6, 15)\n",
      "x_test.shape: (120, 15)\n"
     ]
    },
    {
     "data": {
      "application/vnd.jupyter.widget-view+json": {
       "model_id": "70a42d6e11374d48ba22234dc405dd82",
       "version_major": 2,
       "version_minor": 0
      },
      "text/plain": [
       "iter loop:   0%|          | 0/100 [00:00<?, ?it/s]"
      ]
     },
     "metadata": {},
     "output_type": "display_data"
    },
    {
     "name": "stdout",
     "output_type": "stream",
     "text": [
      "x_train.shape (6, 15)\n",
      "x_test.shape: (120, 15)\n"
     ]
    },
    {
     "data": {
      "application/vnd.jupyter.widget-view+json": {
       "model_id": "76d13b82d7634610add3c8352ce6e05d",
       "version_major": 2,
       "version_minor": 0
      },
      "text/plain": [
       "iter loop:   0%|          | 0/100 [00:00<?, ?it/s]"
      ]
     },
     "metadata": {},
     "output_type": "display_data"
    },
    {
     "name": "stdout",
     "output_type": "stream",
     "text": [
      "x_train.shape (6, 15)\n",
      "x_test.shape: (120, 15)\n"
     ]
    },
    {
     "data": {
      "application/vnd.jupyter.widget-view+json": {
       "model_id": "8c942405d5a149f5ad982709dcbcd598",
       "version_major": 2,
       "version_minor": 0
      },
      "text/plain": [
       "iter loop:   0%|          | 0/100 [00:00<?, ?it/s]"
      ]
     },
     "metadata": {},
     "output_type": "display_data"
    },
    {
     "data": {
      "application/vnd.jupyter.widget-view+json": {
       "model_id": "71def7c3aeee4b7faf289841269810de",
       "version_major": 2,
       "version_minor": 0
      },
      "text/plain": [
       "learner loop:   0%|          | 0/4 [00:00<?, ?it/s]"
      ]
     },
     "metadata": {},
     "output_type": "display_data"
    },
    {
     "name": "stdout",
     "output_type": "stream",
     "text": [
      "x_train.shape (6, 15)\n",
      "x_test.shape: (120, 15)\n"
     ]
    },
    {
     "data": {
      "application/vnd.jupyter.widget-view+json": {
       "model_id": "6a22ea27d89043c695beeb852e98c55d",
       "version_major": 2,
       "version_minor": 0
      },
      "text/plain": [
       "iter loop:   0%|          | 0/100 [00:00<?, ?it/s]"
      ]
     },
     "metadata": {},
     "output_type": "display_data"
    },
    {
     "name": "stdout",
     "output_type": "stream",
     "text": [
      "x_train.shape (6, 15)\n",
      "x_test.shape: (120, 15)\n"
     ]
    },
    {
     "data": {
      "application/vnd.jupyter.widget-view+json": {
       "model_id": "ea9dff462ec9407fbb614cc518eeae6b",
       "version_major": 2,
       "version_minor": 0
      },
      "text/plain": [
       "iter loop:   0%|          | 0/100 [00:00<?, ?it/s]"
      ]
     },
     "metadata": {},
     "output_type": "display_data"
    },
    {
     "name": "stdout",
     "output_type": "stream",
     "text": [
      "x_train.shape (6, 15)\n",
      "x_test.shape: (120, 15)\n"
     ]
    },
    {
     "data": {
      "application/vnd.jupyter.widget-view+json": {
       "model_id": "dbf1c6db449e42699e871d123eeec57c",
       "version_major": 2,
       "version_minor": 0
      },
      "text/plain": [
       "iter loop:   0%|          | 0/100 [00:00<?, ?it/s]"
      ]
     },
     "metadata": {},
     "output_type": "display_data"
    },
    {
     "name": "stdout",
     "output_type": "stream",
     "text": [
      "x_train.shape (6, 15)\n",
      "x_test.shape: (120, 15)\n"
     ]
    },
    {
     "data": {
      "application/vnd.jupyter.widget-view+json": {
       "model_id": "aaff4cd45f304da6a0c40a96677718ea",
       "version_major": 2,
       "version_minor": 0
      },
      "text/plain": [
       "iter loop:   0%|          | 0/100 [00:00<?, ?it/s]"
      ]
     },
     "metadata": {},
     "output_type": "display_data"
    },
    {
     "data": {
      "application/vnd.jupyter.widget-view+json": {
       "model_id": "5b0a4ecc18f74ffba2c20880f700c941",
       "version_major": 2,
       "version_minor": 0
      },
      "text/plain": [
       "learner loop:   0%|          | 0/4 [00:00<?, ?it/s]"
      ]
     },
     "metadata": {},
     "output_type": "display_data"
    },
    {
     "name": "stdout",
     "output_type": "stream",
     "text": [
      "x_train.shape (6, 15)\n",
      "x_test.shape: (120, 15)\n"
     ]
    },
    {
     "data": {
      "application/vnd.jupyter.widget-view+json": {
       "model_id": "698824bb5664408391ddf1f42e4aac4d",
       "version_major": 2,
       "version_minor": 0
      },
      "text/plain": [
       "iter loop:   0%|          | 0/100 [00:00<?, ?it/s]"
      ]
     },
     "metadata": {},
     "output_type": "display_data"
    },
    {
     "name": "stdout",
     "output_type": "stream",
     "text": [
      "x_train.shape (6, 15)\n",
      "x_test.shape: (120, 15)\n"
     ]
    },
    {
     "data": {
      "application/vnd.jupyter.widget-view+json": {
       "model_id": "5118ff39f4874079ba8cbcfef5f7efec",
       "version_major": 2,
       "version_minor": 0
      },
      "text/plain": [
       "iter loop:   0%|          | 0/100 [00:00<?, ?it/s]"
      ]
     },
     "metadata": {},
     "output_type": "display_data"
    },
    {
     "name": "stdout",
     "output_type": "stream",
     "text": [
      "x_train.shape (6, 15)\n",
      "x_test.shape: (120, 15)\n"
     ]
    },
    {
     "data": {
      "application/vnd.jupyter.widget-view+json": {
       "model_id": "30a506e5d43e4a0096b7540b374d3af1",
       "version_major": 2,
       "version_minor": 0
      },
      "text/plain": [
       "iter loop:   0%|          | 0/100 [00:00<?, ?it/s]"
      ]
     },
     "metadata": {},
     "output_type": "display_data"
    },
    {
     "name": "stdout",
     "output_type": "stream",
     "text": [
      "x_train.shape (6, 15)\n",
      "x_test.shape: (120, 15)\n"
     ]
    },
    {
     "data": {
      "application/vnd.jupyter.widget-view+json": {
       "model_id": "122ffcf834494b3da9c722a2e2a3d615",
       "version_major": 2,
       "version_minor": 0
      },
      "text/plain": [
       "iter loop:   0%|          | 0/100 [00:00<?, ?it/s]"
      ]
     },
     "metadata": {},
     "output_type": "display_data"
    },
    {
     "data": {
      "application/vnd.jupyter.widget-view+json": {
       "model_id": "1ea442a02e694d5cbd6e253761f42a5e",
       "version_major": 2,
       "version_minor": 0
      },
      "text/plain": [
       "learner loop:   0%|          | 0/4 [00:00<?, ?it/s]"
      ]
     },
     "metadata": {},
     "output_type": "display_data"
    },
    {
     "name": "stdout",
     "output_type": "stream",
     "text": [
      "x_train.shape (6, 15)\n",
      "x_test.shape: (120, 15)\n"
     ]
    },
    {
     "data": {
      "application/vnd.jupyter.widget-view+json": {
       "model_id": "957c72d37c8d4e1a8ec563eb4512d7b8",
       "version_major": 2,
       "version_minor": 0
      },
      "text/plain": [
       "iter loop:   0%|          | 0/100 [00:00<?, ?it/s]"
      ]
     },
     "metadata": {},
     "output_type": "display_data"
    },
    {
     "name": "stdout",
     "output_type": "stream",
     "text": [
      "x_train.shape (6, 15)\n",
      "x_test.shape: (120, 15)\n"
     ]
    },
    {
     "data": {
      "application/vnd.jupyter.widget-view+json": {
       "model_id": "fb3c7f94d54944abb038aa620b163668",
       "version_major": 2,
       "version_minor": 0
      },
      "text/plain": [
       "iter loop:   0%|          | 0/100 [00:00<?, ?it/s]"
      ]
     },
     "metadata": {},
     "output_type": "display_data"
    },
    {
     "name": "stdout",
     "output_type": "stream",
     "text": [
      "x_train.shape (6, 15)\n",
      "x_test.shape: (120, 15)\n"
     ]
    },
    {
     "data": {
      "application/vnd.jupyter.widget-view+json": {
       "model_id": "ba5d3a42ac8f42e6986a09f7807da9c5",
       "version_major": 2,
       "version_minor": 0
      },
      "text/plain": [
       "iter loop:   0%|          | 0/100 [00:00<?, ?it/s]"
      ]
     },
     "metadata": {},
     "output_type": "display_data"
    },
    {
     "name": "stdout",
     "output_type": "stream",
     "text": [
      "x_train.shape (6, 15)\n",
      "x_test.shape: (120, 15)\n"
     ]
    },
    {
     "data": {
      "application/vnd.jupyter.widget-view+json": {
       "model_id": "e1e4658484f84002b960be4eb7f5552b",
       "version_major": 2,
       "version_minor": 0
      },
      "text/plain": [
       "iter loop:   0%|          | 0/100 [00:00<?, ?it/s]"
      ]
     },
     "metadata": {},
     "output_type": "display_data"
    },
    {
     "data": {
      "application/vnd.jupyter.widget-view+json": {
       "model_id": "b93341ea6b974710b0b836cf1bd90dc1",
       "version_major": 2,
       "version_minor": 0
      },
      "text/plain": [
       "learner loop:   0%|          | 0/4 [00:00<?, ?it/s]"
      ]
     },
     "metadata": {},
     "output_type": "display_data"
    },
    {
     "name": "stdout",
     "output_type": "stream",
     "text": [
      "x_train.shape (6, 15)\n",
      "x_test.shape: (120, 15)\n"
     ]
    },
    {
     "data": {
      "application/vnd.jupyter.widget-view+json": {
       "model_id": "e0f83bdda43b4ecc88226aef9e00c7e9",
       "version_major": 2,
       "version_minor": 0
      },
      "text/plain": [
       "iter loop:   0%|          | 0/100 [00:00<?, ?it/s]"
      ]
     },
     "metadata": {},
     "output_type": "display_data"
    },
    {
     "name": "stdout",
     "output_type": "stream",
     "text": [
      "x_train.shape (6, 15)\n",
      "x_test.shape: (120, 15)\n"
     ]
    },
    {
     "data": {
      "application/vnd.jupyter.widget-view+json": {
       "model_id": "6b744d9dcb8d461ca859e516fe21983b",
       "version_major": 2,
       "version_minor": 0
      },
      "text/plain": [
       "iter loop:   0%|          | 0/100 [00:00<?, ?it/s]"
      ]
     },
     "metadata": {},
     "output_type": "display_data"
    },
    {
     "name": "stdout",
     "output_type": "stream",
     "text": [
      "x_train.shape (6, 15)\n",
      "x_test.shape: (120, 15)\n"
     ]
    },
    {
     "data": {
      "application/vnd.jupyter.widget-view+json": {
       "model_id": "59a00a02debc465294505b1b9c06acce",
       "version_major": 2,
       "version_minor": 0
      },
      "text/plain": [
       "iter loop:   0%|          | 0/100 [00:00<?, ?it/s]"
      ]
     },
     "metadata": {},
     "output_type": "display_data"
    },
    {
     "name": "stdout",
     "output_type": "stream",
     "text": [
      "x_train.shape (6, 15)\n",
      "x_test.shape: (120, 15)\n"
     ]
    },
    {
     "data": {
      "application/vnd.jupyter.widget-view+json": {
       "model_id": "808f1d865e844d38b9ae976cfaa87b66",
       "version_major": 2,
       "version_minor": 0
      },
      "text/plain": [
       "iter loop:   0%|          | 0/100 [00:00<?, ?it/s]"
      ]
     },
     "metadata": {},
     "output_type": "display_data"
    },
    {
     "data": {
      "application/vnd.jupyter.widget-view+json": {
       "model_id": "e58f6df5b33746b996ae8d8a1445d642",
       "version_major": 2,
       "version_minor": 0
      },
      "text/plain": [
       "learner loop:   0%|          | 0/4 [00:00<?, ?it/s]"
      ]
     },
     "metadata": {},
     "output_type": "display_data"
    },
    {
     "name": "stdout",
     "output_type": "stream",
     "text": [
      "x_train.shape (6, 15)\n",
      "x_test.shape: (120, 15)\n"
     ]
    },
    {
     "data": {
      "application/vnd.jupyter.widget-view+json": {
       "model_id": "8248b3df3a57452bbb4c40188ee8924b",
       "version_major": 2,
       "version_minor": 0
      },
      "text/plain": [
       "iter loop:   0%|          | 0/100 [00:00<?, ?it/s]"
      ]
     },
     "metadata": {},
     "output_type": "display_data"
    },
    {
     "name": "stdout",
     "output_type": "stream",
     "text": [
      "x_train.shape (6, 15)\n",
      "x_test.shape: (120, 15)\n"
     ]
    },
    {
     "data": {
      "application/vnd.jupyter.widget-view+json": {
       "model_id": "bd32a2a137f44e82a8aea18bafc66d35",
       "version_major": 2,
       "version_minor": 0
      },
      "text/plain": [
       "iter loop:   0%|          | 0/100 [00:00<?, ?it/s]"
      ]
     },
     "metadata": {},
     "output_type": "display_data"
    },
    {
     "name": "stdout",
     "output_type": "stream",
     "text": [
      "x_train.shape (6, 15)\n",
      "x_test.shape: (120, 15)\n"
     ]
    },
    {
     "data": {
      "application/vnd.jupyter.widget-view+json": {
       "model_id": "33adfd77741d43038c5215c732860520",
       "version_major": 2,
       "version_minor": 0
      },
      "text/plain": [
       "iter loop:   0%|          | 0/100 [00:00<?, ?it/s]"
      ]
     },
     "metadata": {},
     "output_type": "display_data"
    },
    {
     "name": "stdout",
     "output_type": "stream",
     "text": [
      "x_train.shape (6, 15)\n",
      "x_test.shape: (120, 15)\n"
     ]
    },
    {
     "data": {
      "application/vnd.jupyter.widget-view+json": {
       "model_id": "aa3056bc134448f897cb1cbd3ce970c2",
       "version_major": 2,
       "version_minor": 0
      },
      "text/plain": [
       "iter loop:   0%|          | 0/100 [00:00<?, ?it/s]"
      ]
     },
     "metadata": {},
     "output_type": "display_data"
    },
    {
     "data": {
      "application/vnd.jupyter.widget-view+json": {
       "model_id": "9b261f777fd84840a23ba02dd69213f1",
       "version_major": 2,
       "version_minor": 0
      },
      "text/plain": [
       "learner loop:   0%|          | 0/4 [00:00<?, ?it/s]"
      ]
     },
     "metadata": {},
     "output_type": "display_data"
    },
    {
     "name": "stdout",
     "output_type": "stream",
     "text": [
      "x_train.shape (6, 15)\n",
      "x_test.shape: (120, 15)\n"
     ]
    },
    {
     "data": {
      "application/vnd.jupyter.widget-view+json": {
       "model_id": "8295972ccf984b658e25457090c1cc5b",
       "version_major": 2,
       "version_minor": 0
      },
      "text/plain": [
       "iter loop:   0%|          | 0/100 [00:00<?, ?it/s]"
      ]
     },
     "metadata": {},
     "output_type": "display_data"
    },
    {
     "name": "stdout",
     "output_type": "stream",
     "text": [
      "x_train.shape (6, 15)\n",
      "x_test.shape: (120, 15)\n"
     ]
    },
    {
     "data": {
      "application/vnd.jupyter.widget-view+json": {
       "model_id": "497995cb312d4518a0f89b1583547c55",
       "version_major": 2,
       "version_minor": 0
      },
      "text/plain": [
       "iter loop:   0%|          | 0/100 [00:00<?, ?it/s]"
      ]
     },
     "metadata": {},
     "output_type": "display_data"
    },
    {
     "name": "stdout",
     "output_type": "stream",
     "text": [
      "x_train.shape (6, 15)\n",
      "x_test.shape: (120, 15)\n"
     ]
    },
    {
     "data": {
      "application/vnd.jupyter.widget-view+json": {
       "model_id": "5fc36997a1f8467794f48005eaa70c32",
       "version_major": 2,
       "version_minor": 0
      },
      "text/plain": [
       "iter loop:   0%|          | 0/100 [00:00<?, ?it/s]"
      ]
     },
     "metadata": {},
     "output_type": "display_data"
    },
    {
     "name": "stdout",
     "output_type": "stream",
     "text": [
      "x_train.shape (6, 15)\n",
      "x_test.shape: (120, 15)\n"
     ]
    },
    {
     "data": {
      "application/vnd.jupyter.widget-view+json": {
       "model_id": "7a1467dc52ad4adc823c48cd9b8634b6",
       "version_major": 2,
       "version_minor": 0
      },
      "text/plain": [
       "iter loop:   0%|          | 0/100 [00:00<?, ?it/s]"
      ]
     },
     "metadata": {},
     "output_type": "display_data"
    },
    {
     "data": {
      "application/vnd.jupyter.widget-view+json": {
       "model_id": "4650ffc07d23470ba60b90d3e49b992b",
       "version_major": 2,
       "version_minor": 0
      },
      "text/plain": [
       "learner loop:   0%|          | 0/4 [00:00<?, ?it/s]"
      ]
     },
     "metadata": {},
     "output_type": "display_data"
    },
    {
     "name": "stdout",
     "output_type": "stream",
     "text": [
      "x_train.shape (6, 15)\n",
      "x_test.shape: (120, 15)\n"
     ]
    },
    {
     "data": {
      "application/vnd.jupyter.widget-view+json": {
       "model_id": "e89891c700f34902aeceebf4c8ca83ce",
       "version_major": 2,
       "version_minor": 0
      },
      "text/plain": [
       "iter loop:   0%|          | 0/100 [00:00<?, ?it/s]"
      ]
     },
     "metadata": {},
     "output_type": "display_data"
    },
    {
     "name": "stdout",
     "output_type": "stream",
     "text": [
      "x_train.shape (6, 15)\n",
      "x_test.shape: (120, 15)\n"
     ]
    },
    {
     "data": {
      "application/vnd.jupyter.widget-view+json": {
       "model_id": "9281dc4d89f64f7ab90cb18659ec8fa9",
       "version_major": 2,
       "version_minor": 0
      },
      "text/plain": [
       "iter loop:   0%|          | 0/100 [00:00<?, ?it/s]"
      ]
     },
     "metadata": {},
     "output_type": "display_data"
    },
    {
     "name": "stdout",
     "output_type": "stream",
     "text": [
      "x_train.shape (6, 15)\n",
      "x_test.shape: (120, 15)\n"
     ]
    },
    {
     "data": {
      "application/vnd.jupyter.widget-view+json": {
       "model_id": "030ee0232b7d4f2c9cc1f793ec4317fa",
       "version_major": 2,
       "version_minor": 0
      },
      "text/plain": [
       "iter loop:   0%|          | 0/100 [00:00<?, ?it/s]"
      ]
     },
     "metadata": {},
     "output_type": "display_data"
    },
    {
     "name": "stdout",
     "output_type": "stream",
     "text": [
      "x_train.shape (6, 15)\n",
      "x_test.shape: (120, 15)\n"
     ]
    },
    {
     "data": {
      "application/vnd.jupyter.widget-view+json": {
       "model_id": "6237a20cedd946bf80f67c8d0edab112",
       "version_major": 2,
       "version_minor": 0
      },
      "text/plain": [
       "iter loop:   0%|          | 0/100 [00:00<?, ?it/s]"
      ]
     },
     "metadata": {},
     "output_type": "display_data"
    },
    {
     "data": {
      "application/vnd.jupyter.widget-view+json": {
       "model_id": "4a6dcd6d14f14c1192261b6023549412",
       "version_major": 2,
       "version_minor": 0
      },
      "text/plain": [
       "learner loop:   0%|          | 0/4 [00:00<?, ?it/s]"
      ]
     },
     "metadata": {},
     "output_type": "display_data"
    },
    {
     "name": "stdout",
     "output_type": "stream",
     "text": [
      "x_train.shape (6, 15)\n",
      "x_test.shape: (120, 15)\n"
     ]
    },
    {
     "data": {
      "application/vnd.jupyter.widget-view+json": {
       "model_id": "ae3673698c794a26ad74addc89129e62",
       "version_major": 2,
       "version_minor": 0
      },
      "text/plain": [
       "iter loop:   0%|          | 0/100 [00:00<?, ?it/s]"
      ]
     },
     "metadata": {},
     "output_type": "display_data"
    },
    {
     "name": "stdout",
     "output_type": "stream",
     "text": [
      "x_train.shape (6, 15)\n",
      "x_test.shape: (120, 15)\n"
     ]
    },
    {
     "data": {
      "application/vnd.jupyter.widget-view+json": {
       "model_id": "faa3e45d58334c2e83098d3dd04da45d",
       "version_major": 2,
       "version_minor": 0
      },
      "text/plain": [
       "iter loop:   0%|          | 0/100 [00:00<?, ?it/s]"
      ]
     },
     "metadata": {},
     "output_type": "display_data"
    },
    {
     "name": "stdout",
     "output_type": "stream",
     "text": [
      "x_train.shape (6, 15)\n",
      "x_test.shape: (120, 15)\n"
     ]
    },
    {
     "data": {
      "application/vnd.jupyter.widget-view+json": {
       "model_id": "78b0ac8896f347a8973410b406e59959",
       "version_major": 2,
       "version_minor": 0
      },
      "text/plain": [
       "iter loop:   0%|          | 0/100 [00:00<?, ?it/s]"
      ]
     },
     "metadata": {},
     "output_type": "display_data"
    },
    {
     "name": "stdout",
     "output_type": "stream",
     "text": [
      "x_train.shape (6, 15)\n",
      "x_test.shape: (120, 15)\n"
     ]
    },
    {
     "data": {
      "application/vnd.jupyter.widget-view+json": {
       "model_id": "82cd1a2afcbf4433871ed1663b014c6e",
       "version_major": 2,
       "version_minor": 0
      },
      "text/plain": [
       "iter loop:   0%|          | 0/100 [00:00<?, ?it/s]"
      ]
     },
     "metadata": {},
     "output_type": "display_data"
    },
    {
     "data": {
      "application/vnd.jupyter.widget-view+json": {
       "model_id": "915771eccbcb4888b24a497ab4d9cedf",
       "version_major": 2,
       "version_minor": 0
      },
      "text/plain": [
       "learner loop:   0%|          | 0/4 [00:00<?, ?it/s]"
      ]
     },
     "metadata": {},
     "output_type": "display_data"
    },
    {
     "name": "stdout",
     "output_type": "stream",
     "text": [
      "x_train.shape (6, 15)\n",
      "x_test.shape: (120, 15)\n"
     ]
    },
    {
     "data": {
      "application/vnd.jupyter.widget-view+json": {
       "model_id": "e52f934f86de4dfd8b6324fa768bf5d4",
       "version_major": 2,
       "version_minor": 0
      },
      "text/plain": [
       "iter loop:   0%|          | 0/100 [00:00<?, ?it/s]"
      ]
     },
     "metadata": {},
     "output_type": "display_data"
    },
    {
     "name": "stdout",
     "output_type": "stream",
     "text": [
      "x_train.shape (6, 15)\n",
      "x_test.shape: (120, 15)\n"
     ]
    },
    {
     "data": {
      "application/vnd.jupyter.widget-view+json": {
       "model_id": "5d8391ab1e0b4bf2b6ded8cc3f9e9ffa",
       "version_major": 2,
       "version_minor": 0
      },
      "text/plain": [
       "iter loop:   0%|          | 0/100 [00:00<?, ?it/s]"
      ]
     },
     "metadata": {},
     "output_type": "display_data"
    },
    {
     "name": "stdout",
     "output_type": "stream",
     "text": [
      "x_train.shape (6, 15)\n",
      "x_test.shape: (120, 15)\n"
     ]
    },
    {
     "data": {
      "application/vnd.jupyter.widget-view+json": {
       "model_id": "5ad0529bf6ed490f856aa26cd75885da",
       "version_major": 2,
       "version_minor": 0
      },
      "text/plain": [
       "iter loop:   0%|          | 0/100 [00:00<?, ?it/s]"
      ]
     },
     "metadata": {},
     "output_type": "display_data"
    },
    {
     "name": "stdout",
     "output_type": "stream",
     "text": [
      "x_train.shape (6, 15)\n",
      "x_test.shape: (120, 15)\n"
     ]
    },
    {
     "data": {
      "application/vnd.jupyter.widget-view+json": {
       "model_id": "e43781f6f79940fd840e630ae639ff1b",
       "version_major": 2,
       "version_minor": 0
      },
      "text/plain": [
       "iter loop:   0%|          | 0/100 [00:00<?, ?it/s]"
      ]
     },
     "metadata": {},
     "output_type": "display_data"
    }
   ],
   "source": [
    "learners_linear = dict(\n",
    "    random=(query_random, make_linear_model),\n",
    "    gsx=(gsx_query, make_linear_model),\n",
    "    gsy=(gsy_query, make_linear_model),\n",
    "    igs=(igs_query, make_linear_model)\n",
    ")\n",
    "\n",
    "learners_gp = dict(\n",
    "    uncertainty=(query_uncertainty, make_gp_model_matern),\n",
    "    random=(query_random, make_gp_model_matern),\n",
    "    gsx=(gsx_query, make_gp_model_matern),\n",
    "    gsy=(gsy_query, make_gp_model_matern),\n",
    "    igs=(igs_query, make_gp_model_matern)\n",
    ")\n",
    "\n",
    "output = run_multiple(x_data_pca, y_data, (0.79, 0.2), learners_linear, 100, 40, 1)"
   ]
  },
  {
   "cell_type": "code",
   "execution_count": 125,
   "metadata": {},
   "outputs": [
    {
     "data": {
      "text/plain": [
       "(<module 'matplotlib.pyplot' from '/nix/store/c8sgkmibi2vyfw75w9vai2917j5smvq7-python3.8-matplotlib-3.3.1/lib/python3.8/site-packages/matplotlib/pyplot.py'>,\n",
       " <AxesSubplot:xlabel='N (queries)', ylabel='$R^2$'>)"
      ]
     },
     "execution_count": 125,
     "metadata": {},
     "output_type": "execute_result"
    },
    {
     "data": {
      "image/png": "[encoded data removed]",
      "text/plain": [
       "<Figure size 720x576 with 1 Axes>"
      ]
     },
     "metadata": {},
     "output_type": "display_data"
    }
   ],
   "source": [
    "plot_scores(output, error_freq=20, opt=None, opt_error=0.0059322)"
   ]
  },
  {
   "cell_type": "code",
   "execution_count": 57,
   "metadata": {},
   "outputs": [],
   "source": [
    "?hdfdict.dump"
   ]
  },
  {
   "cell_type": "code",
   "execution_count": 95,
   "metadata": {},
   "outputs": [],
   "source": [
    "!rm output.h5"
   ]
  },
  {
   "cell_type": "code",
   "execution_count": 96,
   "metadata": {},
   "outputs": [
    {
     "name": "stderr",
     "output_type": "stream",
     "text": [
      "/nix/store/d356vfcf4lrrx8rd92fz71zd2d2hinxd-python3.8-hdfdict-0.3.1/lib/python3.8/site-packages/hdfdict/hdfdict.py:22: H5pyDeprecationWarning: The default file mode will change to 'r' (read-only) in h5py 3.0. To suppress this warning, pass the mode you need to h5py.File(), or set the global default h5.get_config().default_file_mode, or set the environment variable H5PY_DEFAULT_READONLY=1. Available modes are: 'r', 'r+', 'w', 'w-'/'x', 'a'. See the docs for details.\n",
      "  yield h5py.File(hdf, *args, **kwargs)\n"
     ]
    },
    {
     "data": {
      "text/plain": [
       "<HDF5 file \"output.h5\" (mode r+)>"
      ]
     },
     "execution_count": 96,
     "metadata": {},
     "output_type": "execute_result"
    }
   ],
   "source": [
    "hdfdict.dump(output, 'output.h5')"
   ]
  },
  {
   "cell_type": "code",
   "execution_count": 97,
   "metadata": {},
   "outputs": [],
   "source": [
    "output_ = hdfdict.load('output.h5')"
   ]
  },
  {
   "cell_type": "code",
   "execution_count": 120,
   "metadata": {},
   "outputs": [
    {
     "data": {
      "image/png": "[encoded data removed]",
      "text/plain": [
       "<Figure size 720x576 with 1 Axes>"
      ]
     },
     "metadata": {},
     "output_type": "display_data"
    }
   ],
   "source": [
    "plt, ax = plot_scores(output_, error_freq=20, opt=0.993, opt_error=0.0014)\n",
    "plt.title('Active Learning Curves for the 2D Material')\n",
    "plt.savefig('plot2d.png')"
   ]
  },
  {
   "cell_type": "code",
   "execution_count": null,
   "metadata": {},
   "outputs": [],
   "source": []
  }
 ],
 "metadata": {
  "kernelspec": {
   "display_name": "Python 3",
   "language": "python",
   "name": "python3"
  },
  "language_info": {
   "codemirror_mode": {
    "name": "ipython",
    "version": 3
   },
   "file_extension": ".py",
   "mimetype": "text/x-python",
   "name": "python",
   "nbconvert_exporter": "python",
   "pygments_lexer": "ipython3",
   "version": "3.8.5"
  }
 },
 "nbformat": 4,
 "nbformat_minor": 4
}
