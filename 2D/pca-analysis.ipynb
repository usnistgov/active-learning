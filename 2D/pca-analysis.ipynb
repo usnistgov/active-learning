{
 "cells": [
  {
   "cell_type": "markdown",
   "metadata": {},
   "source": [
    "# 2D PCA Analysis"
   ]
  },
  {
   "cell_type": "code",
   "execution_count": 27,
   "metadata": {},
   "outputs": [],
   "source": [
    "import numpy as np\n",
    "import dask.array as da\n",
    "from sklearn.pipeline import Pipeline\n",
    "\n",
    "from pymks import (\n",
    "    PrimitiveTransformer,\n",
    "    TwoPointCorrelation,\n",
    "    GenericTransformer,\n",
    ")\n",
    "\n",
    "from dask_ml.decomposition import IncrementalPCA"
   ]
  },
  {
   "cell_type": "code",
   "execution_count": 28,
   "metadata": {},
   "outputs": [],
   "source": [
    "def pca_steps():\n",
    "    return (\n",
    "        (\"discritize\",PrimitiveTransformer(n_state=2, min_=0.0, max_=1.0)),\n",
    "        (\"correlations\",TwoPointCorrelation(periodic_boundary=True, cutoff=30, correlations=[(0, 0)])),\n",
    "        ('flatten', GenericTransformer(lambda x: x.reshape(x.shape[0], -1))),\n",
    "        ('pca', IncrementalPCA(n_components=15)),\n",
    "    )\n",
    "\n",
    "def make_pca_model():\n",
    "    return Pipeline(steps=pca_steps())"
   ]
  },
  {
   "cell_type": "code",
   "execution_count": 30,
   "metadata": {},
   "outputs": [
    {
     "name": "stdout",
     "output_type": "stream",
     "text": [
      "(500, 51, 51)\n",
      "(500,)\n"
     ]
    }
   ],
   "source": [
    "data = np.load('data-500-51-51.npz')\n",
    "x_data = data['x_data']\n",
    "y_data = data['y_data'].reshape(-1)\n",
    "print(x_data.shape)\n",
    "print(y_data.shape)"
   ]
  },
  {
   "cell_type": "code",
   "execution_count": 32,
   "metadata": {},
   "outputs": [
    {
     "name": "stderr",
     "output_type": "stream",
     "text": [
      "/nix/store/dzd704r6bxi237k3gd7zbvsvgdhg9qsk-python3.8-dask-2.22.0/lib/python3.8/site-packages/dask/core.py:121: RuntimeWarning: invalid value encountered in true_divide\n",
      "  return func(*(_execute_task(a, cache) for a in args))\n"
     ]
    }
   ],
   "source": [
    "x_data_da = da.from_array(x_data, chunks=(50, 51, 51))\n",
    "model = make_pca_model()\n",
    "x_data_pca = model.fit_transform(x_data_da).compute()"
   ]
  },
  {
   "cell_type": "code",
   "execution_count": 33,
   "metadata": {},
   "outputs": [
    {
     "name": "stdout",
     "output_type": "stream",
     "text": [
      "(500, 15)\n",
      "(500,)\n"
     ]
    }
   ],
   "source": [
    "print(x_data_pca.shape)\n",
    "print(y_data.shape)"
   ]
  },
  {
   "cell_type": "code",
   "execution_count": 35,
   "metadata": {},
   "outputs": [],
   "source": [
    "np.savez('data_pca-500-51-51.npz', x_data_pca=x_data_pca, y_data=y_data)"
   ]
  },
  {
   "cell_type": "code",
   "execution_count": null,
   "metadata": {},
   "outputs": [],
   "source": []
  },
  {
   "cell_type": "code",
   "execution_count": null,
   "metadata": {},
   "outputs": [],
   "source": []
  },
  {
   "cell_type": "code",
   "execution_count": null,
   "metadata": {},
   "outputs": [],
   "source": []
  }
 ],
 "metadata": {
  "kernelspec": {
   "display_name": "Python 3 (ipykernel)",
   "language": "python",
   "name": "python3"
  },
  "language_info": {
   "codemirror_mode": {
    "name": "ipython",
    "version": 3
   },
   "file_extension": ".py",
   "mimetype": "text/x-python",
   "name": "python",
   "nbconvert_exporter": "python",
   "pygments_lexer": "ipython3",
   "version": "3.8.5"
  }
 },
 "nbformat": 4,
 "nbformat_minor": 4
}
