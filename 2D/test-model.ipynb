{
 "cells": [
  {
   "cell_type": "markdown",
   "metadata": {},
   "source": [
    "# Test Model"
   ]
  },
  {
   "cell_type": "code",
   "execution_count": 89,
   "metadata": {},
   "outputs": [],
   "source": [
    "import numpy as np\n",
    "\n",
    "from active import split_on_ids\n",
    "from sklearn.gaussian_process.kernels import RBF, WhiteKernel, Matern\n",
    "from sklearn.gaussian_process import GaussianProcessRegressor\n",
    "import matplotlib.pyplot as plt\n",
    "from sklearn.metrics import r2_score\n",
    "from sklearn.pipeline import Pipeline\n",
    "from pymks import (\n",
    "    PrimitiveTransformer,\n",
    "    TwoPointCorrelation,\n",
    "    GenericTransformer,\n",
    ")\n",
    "\n",
    "from dask_ml.decomposition import IncrementalPCA\n",
    "from dask_ml.preprocessing import PolynomialFeatures\n",
    "from sklearn.linear_model import LinearRegression"
   ]
  },
  {
   "cell_type": "code",
   "execution_count": 90,
   "metadata": {},
   "outputs": [],
   "source": [
    "def make_gp_model_matern():\n",
    "    kernel = Matern(length_scale=1.0)\n",
    "    #kernel = 0.5 * RBF(length_scale=1) + WhiteKernel(noise_level=1)\n",
    "    regressor = GaussianProcessRegressor(kernel=kernel)\n",
    "    return regressor\n",
    "\n",
    "def make_linear_model():\n",
    "    return Pipeline(steps=(\n",
    "        ('poly', PolynomialFeatures(degree=3)),\n",
    "        ('regressor', LinearRegression()),\n",
    "    ))\n"
   ]
  },
  {
   "cell_type": "code",
   "execution_count": 91,
   "metadata": {},
   "outputs": [],
   "source": [
    "def plot_parity(y_test, y_predict, label='Testing Data'):\n",
    "    pred_data = np.array([y_test, y_predict])\n",
    "    line = np.min(pred_data), np.max(pred_data)\n",
    "    plt.plot(pred_data[0], pred_data[1], 'o', label=label)\n",
    "    plt.plot(line, line, '-', linewidth=3, color='k')\n",
    "    plt.title('Goodness of Fit', fontsize=20)\n",
    "    plt.xlabel('Actual', fontsize=18)\n",
    "    plt.ylabel('Predicted', fontsize=18)\n",
    "    plt.legend(loc=2, fontsize=15)\n",
    "    return plt"
   ]
  },
  {
   "cell_type": "code",
   "execution_count": 92,
   "metadata": {},
   "outputs": [],
   "source": [
    "def train_test_split_(x_data, y_data, prop, random_state=None):\n",
    "    ids = np.random.choice(len(x_data), int(prop * len(x_data)), replace=False)\n",
    "    x_0, x_1 = split_on_ids(x_data, ids)\n",
    "    y_0, y_1 = split_on_ids(y_data, ids)\n",
    "    return x_0, x_1, y_0, y_1"
   ]
  },
  {
   "cell_type": "code",
   "execution_count": 93,
   "metadata": {},
   "outputs": [],
   "source": [
    "def split(x_data, y_data, train_sizes=(0.9, 0.09), random_state=None):\n",
    "    x_pool, x_, y_pool, y_ = train_test_split_(\n",
    "        x_data,\n",
    "        y_data,\n",
    "        train_sizes[0],\n",
    "        random_state=random_state\n",
    "    )\n",
    "    x_test, x_calibrate, y_test, y_calibrate = train_test_split_(\n",
    "        x_,\n",
    "        y_,\n",
    "        train_sizes[1] / (1 - train_sizes[0]),\n",
    "        random_state=random_state\n",
    "    ) \n",
    "    return x_pool, x_test, x_calibrate, y_pool, y_test, y_calibrate"
   ]
  },
  {
   "cell_type": "code",
   "execution_count": 94,
   "metadata": {},
   "outputs": [],
   "source": [
    "data = np.load('data_pca-500-51-51.npz')"
   ]
  },
  {
   "cell_type": "code",
   "execution_count": 95,
   "metadata": {},
   "outputs": [],
   "source": [
    "x_data_pca = data['x_data_pca'][:]\n",
    "y_data = data['y_data']"
   ]
  },
  {
   "cell_type": "code",
   "execution_count": 96,
   "metadata": {},
   "outputs": [],
   "source": [
    "x_pool, x_test, x_train, y_pool, y_test, y_train = split(x_data_pca, y_data, (0.6, 0.2))"
   ]
  },
  {
   "cell_type": "code",
   "execution_count": 97,
   "metadata": {},
   "outputs": [
    {
     "data": {
      "text/plain": [
       "(100, 15)"
      ]
     },
     "execution_count": 97,
     "metadata": {},
     "output_type": "execute_result"
    }
   ],
   "source": [
    "x_train.shape"
   ]
  },
  {
   "cell_type": "code",
   "execution_count": 98,
   "metadata": {},
   "outputs": [
    {
     "data": {
      "text/plain": [
       "(100, 15)"
      ]
     },
     "execution_count": 98,
     "metadata": {},
     "output_type": "execute_result"
    }
   ],
   "source": [
    "x_test.shape"
   ]
  },
  {
   "cell_type": "code",
   "execution_count": 99,
   "metadata": {},
   "outputs": [],
   "source": [
    "#model = make_linear_model()\n",
    "model = make_gp_model_matern()"
   ]
  },
  {
   "cell_type": "code",
   "execution_count": 100,
   "metadata": {},
   "outputs": [
    {
     "data": {
      "text/plain": [
       "GaussianProcessRegressor(kernel=Matern(length_scale=1, nu=1.5))"
      ]
     },
     "execution_count": 100,
     "metadata": {},
     "output_type": "execute_result"
    }
   ],
   "source": [
    "model.fit(x_train, y_train)"
   ]
  },
  {
   "cell_type": "code",
   "execution_count": 101,
   "metadata": {},
   "outputs": [],
   "source": [
    "y_train_predict = model.predict(x_train)"
   ]
  },
  {
   "cell_type": "code",
   "execution_count": 102,
   "metadata": {},
   "outputs": [],
   "source": [
    "y_test_predict = model.predict(x_test)"
   ]
  },
  {
   "cell_type": "code",
   "execution_count": 103,
   "metadata": {},
   "outputs": [
    {
     "data": {
      "text/plain": [
       "<module 'matplotlib.pyplot' from '/nix/store/c8sgkmibi2vyfw75w9vai2917j5smvq7-python3.8-matplotlib-3.3.1/lib/python3.8/site-packages/matplotlib/pyplot.py'>"
      ]
     },
     "execution_count": 103,
     "metadata": {},
     "output_type": "execute_result"
    },
    {
     "data": {
      "image/png": "[encoded data removed]",
      "text/plain": [
       "<Figure size 432x288 with 1 Axes>"
      ]
     },
     "metadata": {
      "needs_background": "light"
     },
     "output_type": "display_data"
    }
   ],
   "source": [
    "plot_parity(y_train, y_train_predict)"
   ]
  },
  {
   "cell_type": "code",
   "execution_count": 104,
   "metadata": {},
   "outputs": [
    {
     "data": {
      "text/plain": [
       "<module 'matplotlib.pyplot' from '/nix/store/c8sgkmibi2vyfw75w9vai2917j5smvq7-python3.8-matplotlib-3.3.1/lib/python3.8/site-packages/matplotlib/pyplot.py'>"
      ]
     },
     "execution_count": 104,
     "metadata": {},
     "output_type": "execute_result"
    },
    {
     "data": {
      "image/png": "[encoded data removed]",
      "text/plain": [
       "<Figure size 432x288 with 1 Axes>"
      ]
     },
     "metadata": {
      "needs_background": "light"
     },
     "output_type": "display_data"
    }
   ],
   "source": [
    "plot_parity(y_test, y_test_predict)"
   ]
  },
  {
   "cell_type": "code",
   "execution_count": 105,
   "metadata": {},
   "outputs": [
    {
     "name": "stdout",
     "output_type": "stream",
     "text": [
      "0.7114583673666611\n",
      "0.7114583673666611\n"
     ]
    }
   ],
   "source": [
    "print(r2_score(y_test, y_test_predict))\n",
    "#print(y_test.shape)\n",
    "#print(y_test)\n",
    "print(model.score(x_test, y_test))\n",
    "#sklearn.metrics.r2_score()"
   ]
  },
  {
   "cell_type": "code",
   "execution_count": null,
   "metadata": {},
   "outputs": [],
   "source": []
  },
  {
   "cell_type": "code",
   "execution_count": 106,
   "metadata": {},
   "outputs": [
    {
     "name": "stdout",
     "output_type": "stream",
     "text": [
      "(400, 15)\n",
      "(400, 15)\n",
      "(400, 15)\n",
      "(400, 15)\n",
      "(400, 15)\n",
      "(400, 15)\n",
      "(400, 15)\n",
      "(400, 15)\n",
      "(400, 15)\n",
      "(400, 15)\n",
      "(400, 15)\n",
      "(400, 15)\n",
      "(400, 15)\n",
      "(400, 15)\n",
      "(400, 15)\n",
      "(400, 15)\n",
      "(400, 15)\n",
      "(400, 15)\n",
      "(400, 15)\n",
      "(400, 15)\n",
      "(400, 15)\n",
      "(400, 15)\n",
      "(400, 15)\n",
      "(400, 15)\n",
      "(400, 15)\n",
      "(400, 15)\n",
      "(400, 15)\n",
      "(400, 15)\n",
      "(400, 15)\n",
      "(400, 15)\n",
      "(400, 15)\n",
      "(400, 15)\n",
      "(400, 15)\n",
      "(400, 15)\n",
      "(400, 15)\n",
      "(400, 15)\n",
      "(400, 15)\n",
      "(400, 15)\n",
      "(400, 15)\n",
      "(400, 15)\n",
      "[0.9384919278871556, 0.862967609408448, 0.9265338006158511, 0.8912152686145357, 0.8488634655346181, 0.9108508334297246, 0.917190615846607, 0.8883264055009283, 0.8224555245680822, 0.9042461386057151, 0.9004964140675795, 0.9073499422179501, 0.9268875703635401, 0.8742310278192272, 0.9146066398667401, 0.870688220654339, 0.8675352773606231, 0.9153582008051233, 0.900826453709577, 0.9017756821535569, 0.9095046414301962, 0.8353759453821735, 0.9008612843025254, 0.8873912723737025, 0.9252064010337369, 0.9231489680478537, 0.9389238488494582, 0.854154930492507, 0.9042317843466091, 0.9004934961195882, 0.915708790516505, 0.8460915525545527, 0.8680367511298649, 0.927786680212163, 0.9208473059382571, 0.817558567273804, 0.8761030863694268, 0.9147616821287564, 0.9048801180688691, 0.8942387099663638]\n"
     ]
    }
   ],
   "source": [
    "scores = []\n",
    "for _ in range(40):\n",
    "    x_pool, x_test, x_train, y_pool, y_test, y_train = split(x_data_pca, y_data, (0.0, 0.2))\n",
    "    model = make_gp_model_matern()\n",
    "    model.fit(x_train, y_train)\n",
    "    print(x_train.shape)\n",
    "    scores += [model.score(x_test, y_test)]\n",
    "    \n",
    "print(scores)"
   ]
  },
  {
   "cell_type": "code",
   "execution_count": 107,
   "metadata": {},
   "outputs": [
    {
     "data": {
      "text/plain": [
       "0.8939050708891709"
      ]
     },
     "execution_count": 107,
     "metadata": {},
     "output_type": "execute_result"
    }
   ],
   "source": [
    "np.mean(scores)"
   ]
  },
  {
   "cell_type": "code",
   "execution_count": 108,
   "metadata": {},
   "outputs": [
    {
     "data": {
      "text/plain": [
       "0.03058095196337181"
      ]
     },
     "execution_count": 108,
     "metadata": {},
     "output_type": "execute_result"
    }
   ],
   "source": [
    "np.std(scores)"
   ]
  },
  {
   "cell_type": "code",
   "execution_count": null,
   "metadata": {},
   "outputs": [],
   "source": []
  }
 ],
 "metadata": {
  "kernelspec": {
   "display_name": "Python 3 (ipykernel)",
   "language": "python",
   "name": "python3"
  },
  "language_info": {
   "codemirror_mode": {
    "name": "ipython",
    "version": 3
   },
   "file_extension": ".py",
   "mimetype": "text/x-python",
   "name": "python",
   "nbconvert_exporter": "python",
   "pygments_lexer": "ipython3",
   "version": "3.8.5"
  }
 },
 "nbformat": 4,
 "nbformat_minor": 4
}
