{
 "cells": [
  {
   "cell_type": "markdown",
   "metadata": {},
   "source": [
    "# Test Model"
   ]
  },
  {
   "cell_type": "code",
   "execution_count": 7,
   "metadata": {},
   "outputs": [],
   "source": [
    "import numpy as np\n",
    "\n",
    "from active import split_on_ids\n",
    "from sklearn.gaussian_process.kernels import RBF, WhiteKernel, Matern\n",
    "from sklearn.gaussian_process import GaussianProcessRegressor\n",
    "import matplotlib.pyplot as plt\n",
    "from sklearn.metrics import r2_score\n",
    "from sklearn.pipeline import Pipeline\n",
    "from pymks import (\n",
    "    PrimitiveTransformer,\n",
    "    TwoPointCorrelation,\n",
    "    GenericTransformer,\n",
    ")\n",
    "\n",
    "from dask_ml.decomposition import IncrementalPCA\n",
    "from dask_ml.preprocessing import PolynomialFeatures\n",
    "from sklearn.linear_model import LinearRegression"
   ]
  },
  {
   "cell_type": "code",
   "execution_count": 8,
   "metadata": {},
   "outputs": [],
   "source": [
    "def make_gp_model_matern():\n",
    "    kernel = Matern(length_scale=1.0, nu=0.5)\n",
    "#    kernel = 0.5 * RBF(length_scale=1) + WhiteKernel(noise_level=1)\n",
    "    regressor = GaussianProcessRegressor(kernel=kernel)\n",
    "    return regressor\n",
    "\n",
    "def make_linear_model():\n",
    "    return Pipeline(steps=(\n",
    "        ('poly', PolynomialFeatures(degree=3)),\n",
    "        ('regressor', LinearRegression()),\n",
    "    ))\n"
   ]
  },
  {
   "cell_type": "code",
   "execution_count": 9,
   "metadata": {},
   "outputs": [],
   "source": [
    "def plot_parity(y_test, y_predict, label='Testing Data'):\n",
    "    pred_data = np.array([y_test, y_predict])\n",
    "    line = np.min(pred_data), np.max(pred_data)\n",
    "    plt.plot(pred_data[0], pred_data[1], 'o', label=label)\n",
    "    plt.plot(line, line, '-', linewidth=3, color='k')\n",
    "    plt.title('Goodness of Fit', fontsize=20)\n",
    "    plt.xlabel('Actual', fontsize=18)\n",
    "    plt.ylabel('Predicted', fontsize=18)\n",
    "    plt.legend(loc=2, fontsize=15)\n",
    "    return plt"
   ]
  },
  {
   "cell_type": "code",
   "execution_count": 10,
   "metadata": {},
   "outputs": [],
   "source": [
    "def train_test_split_(x_data, y_data, prop, random_state=None):\n",
    "    ids = np.random.choice(len(x_data), int(prop * len(x_data)), replace=False)\n",
    "    x_0, x_1 = split_on_ids(x_data, ids)\n",
    "    y_0, y_1 = split_on_ids(y_data, ids)\n",
    "    return x_0, x_1, y_0, y_1"
   ]
  },
  {
   "cell_type": "code",
   "execution_count": 11,
   "metadata": {},
   "outputs": [],
   "source": [
    "def split(x_data, y_data, train_sizes=(0.9, 0.09), random_state=None):\n",
    "    x_pool, x_, y_pool, y_ = train_test_split_(\n",
    "        x_data,\n",
    "        y_data,\n",
    "        train_sizes[0],\n",
    "        random_state=random_state\n",
    "    )\n",
    "    x_test, x_calibrate, y_test, y_calibrate = train_test_split_(\n",
    "        x_,\n",
    "        y_,\n",
    "        train_sizes[1] / (1 - train_sizes[0]),\n",
    "        random_state=random_state\n",
    "    ) \n",
    "    return x_pool, x_test, x_calibrate, y_pool, y_test, y_calibrate"
   ]
  },
  {
   "cell_type": "code",
   "execution_count": null,
   "metadata": {},
   "outputs": [],
   "source": []
  },
  {
   "cell_type": "code",
   "execution_count": 17,
   "metadata": {},
   "outputs": [],
   "source": [
    "data = np.load('run_00000005/data-pca.npz')"
   ]
  },
  {
   "cell_type": "code",
   "execution_count": 18,
   "metadata": {},
   "outputs": [],
   "source": [
    "x_data_pca = data['x_data_pca'][:]\n",
    "y_data = data['y_data']"
   ]
  },
  {
   "cell_type": "code",
   "execution_count": 19,
   "metadata": {},
   "outputs": [],
   "source": [
    "x_pool, x_test, x_train, y_pool, y_test, y_train = split(x_data_pca, y_data, (0.6, 0.2))"
   ]
  },
  {
   "cell_type": "code",
   "execution_count": 20,
   "metadata": {},
   "outputs": [
    {
     "data": {
      "text/plain": [
       "(100, 15)"
      ]
     },
     "execution_count": 20,
     "metadata": {},
     "output_type": "execute_result"
    }
   ],
   "source": [
    "x_train.shape"
   ]
  },
  {
   "cell_type": "code",
   "execution_count": 21,
   "metadata": {},
   "outputs": [
    {
     "data": {
      "text/plain": [
       "(100, 15)"
      ]
     },
     "execution_count": 21,
     "metadata": {},
     "output_type": "execute_result"
    }
   ],
   "source": [
    "x_test.shape"
   ]
  },
  {
   "cell_type": "code",
   "execution_count": 22,
   "metadata": {},
   "outputs": [],
   "source": [
    "#model = make_linear_model()\n",
    "model = make_gp_model_matern()"
   ]
  },
  {
   "cell_type": "code",
   "execution_count": 23,
   "metadata": {},
   "outputs": [
    {
     "name": "stderr",
     "output_type": "stream",
     "text": [
      "/nix/store/h3jg5jg3iv8gxqb2hhfrvxnr3bb4dcah-python3.8-scikit-learn-0.23.2/lib/python3.8/site-packages/sklearn/gaussian_process/kernels.py:1623: RuntimeWarning: invalid value encountered in true_divide\n",
      "  K_gradient = K[..., np.newaxis] * D \\\n"
     ]
    },
    {
     "data": {
      "text/plain": [
       "GaussianProcessRegressor(kernel=Matern(length_scale=1, nu=0.5))"
      ]
     },
     "execution_count": 23,
     "metadata": {},
     "output_type": "execute_result"
    }
   ],
   "source": [
    "model.fit(x_train, y_train)"
   ]
  },
  {
   "cell_type": "code",
   "execution_count": 24,
   "metadata": {},
   "outputs": [],
   "source": [
    "y_train_predict = model.predict(x_train)"
   ]
  },
  {
   "cell_type": "code",
   "execution_count": 25,
   "metadata": {},
   "outputs": [],
   "source": [
    "y_test_predict = model.predict(x_test)"
   ]
  },
  {
   "cell_type": "code",
   "execution_count": 26,
   "metadata": {},
   "outputs": [
    {
     "data": {
      "text/plain": [
       "<module 'matplotlib.pyplot' from '/nix/store/c8sgkmibi2vyfw75w9vai2917j5smvq7-python3.8-matplotlib-3.3.1/lib/python3.8/site-packages/matplotlib/pyplot.py'>"
      ]
     },
     "execution_count": 26,
     "metadata": {},
     "output_type": "execute_result"
    },
    {
     "data": {
      "image/png": "[encoded data removed]",
      "text/plain": [
       "<Figure size 432x288 with 1 Axes>"
      ]
     },
     "metadata": {
      "needs_background": "light"
     },
     "output_type": "display_data"
    }
   ],
   "source": [
    "plot_parity(y_train, y_train_predict)"
   ]
  },
  {
   "cell_type": "code",
   "execution_count": 27,
   "metadata": {},
   "outputs": [
    {
     "data": {
      "text/plain": [
       "<module 'matplotlib.pyplot' from '/nix/store/c8sgkmibi2vyfw75w9vai2917j5smvq7-python3.8-matplotlib-3.3.1/lib/python3.8/site-packages/matplotlib/pyplot.py'>"
      ]
     },
     "execution_count": 27,
     "metadata": {},
     "output_type": "execute_result"
    },
    {
     "data": {
      "image/png": "[encoded data removed]",
      "text/plain": [
       "<Figure size 432x288 with 1 Axes>"
      ]
     },
     "metadata": {
      "needs_background": "light"
     },
     "output_type": "display_data"
    }
   ],
   "source": [
    "plot_parity(y_test, y_test_predict)"
   ]
  },
  {
   "cell_type": "code",
   "execution_count": 28,
   "metadata": {},
   "outputs": [
    {
     "name": "stdout",
     "output_type": "stream",
     "text": [
      "0.7866500642659504\n",
      "0.7866500642659504\n"
     ]
    }
   ],
   "source": [
    "print(r2_score(y_test, y_test_predict))\n",
    "#print(y_test.shape)\n",
    "#print(y_test)\n",
    "print(model.score(x_test, y_test))\n",
    "#sklearn.metrics.r2_score()"
   ]
  },
  {
   "cell_type": "code",
   "execution_count": null,
   "metadata": {},
   "outputs": [],
   "source": []
  },
  {
   "cell_type": "code",
   "execution_count": 29,
   "metadata": {},
   "outputs": [
    {
     "name": "stderr",
     "output_type": "stream",
     "text": [
      "/nix/store/h3jg5jg3iv8gxqb2hhfrvxnr3bb4dcah-python3.8-scikit-learn-0.23.2/lib/python3.8/site-packages/sklearn/gaussian_process/kernels.py:1623: RuntimeWarning: invalid value encountered in true_divide\n",
      "  K_gradient = K[..., np.newaxis] * D \\\n"
     ]
    },
    {
     "name": "stdout",
     "output_type": "stream",
     "text": [
      "(400, 15)\n",
      "(400, 15)\n"
     ]
    },
    {
     "name": "stderr",
     "output_type": "stream",
     "text": [
      "/nix/store/h3jg5jg3iv8gxqb2hhfrvxnr3bb4dcah-python3.8-scikit-learn-0.23.2/lib/python3.8/site-packages/sklearn/gaussian_process/kernels.py:1623: RuntimeWarning: invalid value encountered in true_divide\n",
      "  K_gradient = K[..., np.newaxis] * D \\\n",
      "/nix/store/h3jg5jg3iv8gxqb2hhfrvxnr3bb4dcah-python3.8-scikit-learn-0.23.2/lib/python3.8/site-packages/sklearn/gaussian_process/kernels.py:1623: RuntimeWarning: invalid value encountered in true_divide\n",
      "  K_gradient = K[..., np.newaxis] * D \\\n"
     ]
    },
    {
     "name": "stdout",
     "output_type": "stream",
     "text": [
      "(400, 15)\n"
     ]
    },
    {
     "name": "stderr",
     "output_type": "stream",
     "text": [
      "/nix/store/h3jg5jg3iv8gxqb2hhfrvxnr3bb4dcah-python3.8-scikit-learn-0.23.2/lib/python3.8/site-packages/sklearn/gaussian_process/kernels.py:1623: RuntimeWarning: invalid value encountered in true_divide\n",
      "  K_gradient = K[..., np.newaxis] * D \\\n"
     ]
    },
    {
     "name": "stdout",
     "output_type": "stream",
     "text": [
      "(400, 15)\n",
      "(400, 15)\n"
     ]
    },
    {
     "name": "stderr",
     "output_type": "stream",
     "text": [
      "/nix/store/h3jg5jg3iv8gxqb2hhfrvxnr3bb4dcah-python3.8-scikit-learn-0.23.2/lib/python3.8/site-packages/sklearn/gaussian_process/kernels.py:1623: RuntimeWarning: invalid value encountered in true_divide\n",
      "  K_gradient = K[..., np.newaxis] * D \\\n",
      "/nix/store/h3jg5jg3iv8gxqb2hhfrvxnr3bb4dcah-python3.8-scikit-learn-0.23.2/lib/python3.8/site-packages/sklearn/gaussian_process/kernels.py:1623: RuntimeWarning: invalid value encountered in true_divide\n",
      "  K_gradient = K[..., np.newaxis] * D \\\n",
      "/nix/store/h3jg5jg3iv8gxqb2hhfrvxnr3bb4dcah-python3.8-scikit-learn-0.23.2/lib/python3.8/site-packages/sklearn/gaussian_process/_gpr.py:504: ConvergenceWarning: lbfgs failed to converge (status=2):\n",
      "ABNORMAL_TERMINATION_IN_LNSRCH.\n",
      "\n",
      "Increase the number of iterations (max_iter) or scale the data as shown in:\n",
      "    https://scikit-learn.org/stable/modules/preprocessing.html\n",
      "  _check_optimize_result(\"lbfgs\", opt_res)\n",
      "/nix/store/h3jg5jg3iv8gxqb2hhfrvxnr3bb4dcah-python3.8-scikit-learn-0.23.2/lib/python3.8/site-packages/sklearn/gaussian_process/kernels.py:1623: RuntimeWarning: invalid value encountered in true_divide\n",
      "  K_gradient = K[..., np.newaxis] * D \\\n",
      "/nix/store/h3jg5jg3iv8gxqb2hhfrvxnr3bb4dcah-python3.8-scikit-learn-0.23.2/lib/python3.8/site-packages/sklearn/gaussian_process/kernels.py:1623: RuntimeWarning: invalid value encountered in true_divide\n",
      "  K_gradient = K[..., np.newaxis] * D \\\n"
     ]
    },
    {
     "name": "stdout",
     "output_type": "stream",
     "text": [
      "(400, 15)\n",
      "(400, 15)\n",
      "(400, 15)\n"
     ]
    },
    {
     "name": "stderr",
     "output_type": "stream",
     "text": [
      "/nix/store/h3jg5jg3iv8gxqb2hhfrvxnr3bb4dcah-python3.8-scikit-learn-0.23.2/lib/python3.8/site-packages/sklearn/gaussian_process/kernels.py:1623: RuntimeWarning: invalid value encountered in true_divide\n",
      "  K_gradient = K[..., np.newaxis] * D \\\n"
     ]
    },
    {
     "name": "stdout",
     "output_type": "stream",
     "text": [
      "(400, 15)\n",
      "(400, 15)\n"
     ]
    },
    {
     "name": "stderr",
     "output_type": "stream",
     "text": [
      "/nix/store/h3jg5jg3iv8gxqb2hhfrvxnr3bb4dcah-python3.8-scikit-learn-0.23.2/lib/python3.8/site-packages/sklearn/gaussian_process/kernels.py:1623: RuntimeWarning: invalid value encountered in true_divide\n",
      "  K_gradient = K[..., np.newaxis] * D \\\n",
      "/nix/store/h3jg5jg3iv8gxqb2hhfrvxnr3bb4dcah-python3.8-scikit-learn-0.23.2/lib/python3.8/site-packages/sklearn/gaussian_process/kernels.py:1623: RuntimeWarning: invalid value encountered in true_divide\n",
      "  K_gradient = K[..., np.newaxis] * D \\\n"
     ]
    },
    {
     "name": "stdout",
     "output_type": "stream",
     "text": [
      "(400, 15)\n",
      "(400, 15)\n",
      "(400, 15)\n"
     ]
    },
    {
     "name": "stderr",
     "output_type": "stream",
     "text": [
      "/nix/store/h3jg5jg3iv8gxqb2hhfrvxnr3bb4dcah-python3.8-scikit-learn-0.23.2/lib/python3.8/site-packages/sklearn/gaussian_process/kernels.py:1623: RuntimeWarning: invalid value encountered in true_divide\n",
      "  K_gradient = K[..., np.newaxis] * D \\\n",
      "/nix/store/h3jg5jg3iv8gxqb2hhfrvxnr3bb4dcah-python3.8-scikit-learn-0.23.2/lib/python3.8/site-packages/sklearn/gaussian_process/kernels.py:1623: RuntimeWarning: invalid value encountered in true_divide\n",
      "  K_gradient = K[..., np.newaxis] * D \\\n",
      "/nix/store/h3jg5jg3iv8gxqb2hhfrvxnr3bb4dcah-python3.8-scikit-learn-0.23.2/lib/python3.8/site-packages/sklearn/gaussian_process/kernels.py:1623: RuntimeWarning: invalid value encountered in true_divide\n",
      "  K_gradient = K[..., np.newaxis] * D \\\n"
     ]
    },
    {
     "name": "stdout",
     "output_type": "stream",
     "text": [
      "(400, 15)\n",
      "(400, 15)\n",
      "(400, 15)\n"
     ]
    },
    {
     "name": "stderr",
     "output_type": "stream",
     "text": [
      "/nix/store/h3jg5jg3iv8gxqb2hhfrvxnr3bb4dcah-python3.8-scikit-learn-0.23.2/lib/python3.8/site-packages/sklearn/gaussian_process/kernels.py:1623: RuntimeWarning: invalid value encountered in true_divide\n",
      "  K_gradient = K[..., np.newaxis] * D \\\n",
      "/nix/store/h3jg5jg3iv8gxqb2hhfrvxnr3bb4dcah-python3.8-scikit-learn-0.23.2/lib/python3.8/site-packages/sklearn/gaussian_process/kernels.py:1623: RuntimeWarning: invalid value encountered in true_divide\n",
      "  K_gradient = K[..., np.newaxis] * D \\\n",
      "/nix/store/h3jg5jg3iv8gxqb2hhfrvxnr3bb4dcah-python3.8-scikit-learn-0.23.2/lib/python3.8/site-packages/sklearn/gaussian_process/kernels.py:1623: RuntimeWarning: invalid value encountered in true_divide\n",
      "  K_gradient = K[..., np.newaxis] * D \\\n"
     ]
    },
    {
     "name": "stdout",
     "output_type": "stream",
     "text": [
      "(400, 15)\n",
      "(400, 15)\n"
     ]
    },
    {
     "name": "stderr",
     "output_type": "stream",
     "text": [
      "/nix/store/h3jg5jg3iv8gxqb2hhfrvxnr3bb4dcah-python3.8-scikit-learn-0.23.2/lib/python3.8/site-packages/sklearn/gaussian_process/kernels.py:1623: RuntimeWarning: invalid value encountered in true_divide\n",
      "  K_gradient = K[..., np.newaxis] * D \\\n",
      "/nix/store/h3jg5jg3iv8gxqb2hhfrvxnr3bb4dcah-python3.8-scikit-learn-0.23.2/lib/python3.8/site-packages/sklearn/gaussian_process/kernels.py:1623: RuntimeWarning: invalid value encountered in true_divide\n",
      "  K_gradient = K[..., np.newaxis] * D \\\n"
     ]
    },
    {
     "name": "stdout",
     "output_type": "stream",
     "text": [
      "(400, 15)\n",
      "(400, 15)\n"
     ]
    },
    {
     "name": "stderr",
     "output_type": "stream",
     "text": [
      "/nix/store/h3jg5jg3iv8gxqb2hhfrvxnr3bb4dcah-python3.8-scikit-learn-0.23.2/lib/python3.8/site-packages/sklearn/gaussian_process/kernels.py:1623: RuntimeWarning: invalid value encountered in true_divide\n",
      "  K_gradient = K[..., np.newaxis] * D \\\n",
      "/nix/store/h3jg5jg3iv8gxqb2hhfrvxnr3bb4dcah-python3.8-scikit-learn-0.23.2/lib/python3.8/site-packages/sklearn/gaussian_process/kernels.py:1623: RuntimeWarning: invalid value encountered in true_divide\n",
      "  K_gradient = K[..., np.newaxis] * D \\\n"
     ]
    },
    {
     "name": "stdout",
     "output_type": "stream",
     "text": [
      "(400, 15)\n",
      "(400, 15)\n"
     ]
    },
    {
     "name": "stderr",
     "output_type": "stream",
     "text": [
      "/nix/store/h3jg5jg3iv8gxqb2hhfrvxnr3bb4dcah-python3.8-scikit-learn-0.23.2/lib/python3.8/site-packages/sklearn/gaussian_process/kernels.py:1623: RuntimeWarning: invalid value encountered in true_divide\n",
      "  K_gradient = K[..., np.newaxis] * D \\\n",
      "/nix/store/h3jg5jg3iv8gxqb2hhfrvxnr3bb4dcah-python3.8-scikit-learn-0.23.2/lib/python3.8/site-packages/sklearn/gaussian_process/kernels.py:1623: RuntimeWarning: invalid value encountered in true_divide\n",
      "  K_gradient = K[..., np.newaxis] * D \\\n"
     ]
    },
    {
     "name": "stdout",
     "output_type": "stream",
     "text": [
      "(400, 15)\n",
      "(400, 15)\n"
     ]
    },
    {
     "name": "stderr",
     "output_type": "stream",
     "text": [
      "/nix/store/h3jg5jg3iv8gxqb2hhfrvxnr3bb4dcah-python3.8-scikit-learn-0.23.2/lib/python3.8/site-packages/sklearn/gaussian_process/kernels.py:1623: RuntimeWarning: invalid value encountered in true_divide\n",
      "  K_gradient = K[..., np.newaxis] * D \\\n",
      "/nix/store/h3jg5jg3iv8gxqb2hhfrvxnr3bb4dcah-python3.8-scikit-learn-0.23.2/lib/python3.8/site-packages/sklearn/gaussian_process/kernels.py:1623: RuntimeWarning: invalid value encountered in true_divide\n",
      "  K_gradient = K[..., np.newaxis] * D \\\n"
     ]
    },
    {
     "name": "stdout",
     "output_type": "stream",
     "text": [
      "(400, 15)\n",
      "(400, 15)\n"
     ]
    },
    {
     "name": "stderr",
     "output_type": "stream",
     "text": [
      "/nix/store/h3jg5jg3iv8gxqb2hhfrvxnr3bb4dcah-python3.8-scikit-learn-0.23.2/lib/python3.8/site-packages/sklearn/gaussian_process/kernels.py:1623: RuntimeWarning: invalid value encountered in true_divide\n",
      "  K_gradient = K[..., np.newaxis] * D \\\n",
      "/nix/store/h3jg5jg3iv8gxqb2hhfrvxnr3bb4dcah-python3.8-scikit-learn-0.23.2/lib/python3.8/site-packages/sklearn/gaussian_process/kernels.py:1623: RuntimeWarning: invalid value encountered in true_divide\n",
      "  K_gradient = K[..., np.newaxis] * D \\\n"
     ]
    },
    {
     "name": "stdout",
     "output_type": "stream",
     "text": [
      "(400, 15)\n",
      "(400, 15)\n"
     ]
    },
    {
     "name": "stderr",
     "output_type": "stream",
     "text": [
      "/nix/store/h3jg5jg3iv8gxqb2hhfrvxnr3bb4dcah-python3.8-scikit-learn-0.23.2/lib/python3.8/site-packages/sklearn/gaussian_process/kernels.py:1623: RuntimeWarning: invalid value encountered in true_divide\n",
      "  K_gradient = K[..., np.newaxis] * D \\\n",
      "/nix/store/h3jg5jg3iv8gxqb2hhfrvxnr3bb4dcah-python3.8-scikit-learn-0.23.2/lib/python3.8/site-packages/sklearn/gaussian_process/kernels.py:1623: RuntimeWarning: invalid value encountered in true_divide\n",
      "  K_gradient = K[..., np.newaxis] * D \\\n"
     ]
    },
    {
     "name": "stdout",
     "output_type": "stream",
     "text": [
      "(400, 15)\n"
     ]
    },
    {
     "name": "stderr",
     "output_type": "stream",
     "text": [
      "/nix/store/h3jg5jg3iv8gxqb2hhfrvxnr3bb4dcah-python3.8-scikit-learn-0.23.2/lib/python3.8/site-packages/sklearn/gaussian_process/kernels.py:1623: RuntimeWarning: invalid value encountered in true_divide\n",
      "  K_gradient = K[..., np.newaxis] * D \\\n",
      "/nix/store/h3jg5jg3iv8gxqb2hhfrvxnr3bb4dcah-python3.8-scikit-learn-0.23.2/lib/python3.8/site-packages/sklearn/gaussian_process/_gpr.py:504: ConvergenceWarning: lbfgs failed to converge (status=2):\n",
      "ABNORMAL_TERMINATION_IN_LNSRCH.\n",
      "\n",
      "Increase the number of iterations (max_iter) or scale the data as shown in:\n",
      "    https://scikit-learn.org/stable/modules/preprocessing.html\n",
      "  _check_optimize_result(\"lbfgs\", opt_res)\n",
      "/nix/store/h3jg5jg3iv8gxqb2hhfrvxnr3bb4dcah-python3.8-scikit-learn-0.23.2/lib/python3.8/site-packages/sklearn/gaussian_process/kernels.py:1623: RuntimeWarning: invalid value encountered in true_divide\n",
      "  K_gradient = K[..., np.newaxis] * D \\\n",
      "/nix/store/h3jg5jg3iv8gxqb2hhfrvxnr3bb4dcah-python3.8-scikit-learn-0.23.2/lib/python3.8/site-packages/sklearn/gaussian_process/kernels.py:1623: RuntimeWarning: invalid value encountered in true_divide\n",
      "  K_gradient = K[..., np.newaxis] * D \\\n"
     ]
    },
    {
     "name": "stdout",
     "output_type": "stream",
     "text": [
      "(400, 15)\n",
      "(400, 15)\n",
      "(400, 15)\n"
     ]
    },
    {
     "name": "stderr",
     "output_type": "stream",
     "text": [
      "/nix/store/h3jg5jg3iv8gxqb2hhfrvxnr3bb4dcah-python3.8-scikit-learn-0.23.2/lib/python3.8/site-packages/sklearn/gaussian_process/kernels.py:1623: RuntimeWarning: invalid value encountered in true_divide\n",
      "  K_gradient = K[..., np.newaxis] * D \\\n"
     ]
    },
    {
     "name": "stdout",
     "output_type": "stream",
     "text": [
      "(400, 15)\n",
      "(400, 15)\n"
     ]
    },
    {
     "name": "stderr",
     "output_type": "stream",
     "text": [
      "/nix/store/h3jg5jg3iv8gxqb2hhfrvxnr3bb4dcah-python3.8-scikit-learn-0.23.2/lib/python3.8/site-packages/sklearn/gaussian_process/kernels.py:1623: RuntimeWarning: invalid value encountered in true_divide\n",
      "  K_gradient = K[..., np.newaxis] * D \\\n",
      "/nix/store/h3jg5jg3iv8gxqb2hhfrvxnr3bb4dcah-python3.8-scikit-learn-0.23.2/lib/python3.8/site-packages/sklearn/gaussian_process/kernels.py:1623: RuntimeWarning: invalid value encountered in true_divide\n",
      "  K_gradient = K[..., np.newaxis] * D \\\n"
     ]
    },
    {
     "name": "stdout",
     "output_type": "stream",
     "text": [
      "(400, 15)\n",
      "(400, 15)\n"
     ]
    },
    {
     "name": "stderr",
     "output_type": "stream",
     "text": [
      "/nix/store/h3jg5jg3iv8gxqb2hhfrvxnr3bb4dcah-python3.8-scikit-learn-0.23.2/lib/python3.8/site-packages/sklearn/gaussian_process/kernels.py:1623: RuntimeWarning: invalid value encountered in true_divide\n",
      "  K_gradient = K[..., np.newaxis] * D \\\n",
      "/nix/store/h3jg5jg3iv8gxqb2hhfrvxnr3bb4dcah-python3.8-scikit-learn-0.23.2/lib/python3.8/site-packages/sklearn/gaussian_process/kernels.py:1623: RuntimeWarning: invalid value encountered in true_divide\n",
      "  K_gradient = K[..., np.newaxis] * D \\\n"
     ]
    },
    {
     "name": "stdout",
     "output_type": "stream",
     "text": [
      "(400, 15)\n",
      "(400, 15)\n",
      "(400, 15)\n"
     ]
    },
    {
     "name": "stderr",
     "output_type": "stream",
     "text": [
      "/nix/store/h3jg5jg3iv8gxqb2hhfrvxnr3bb4dcah-python3.8-scikit-learn-0.23.2/lib/python3.8/site-packages/sklearn/gaussian_process/kernels.py:1623: RuntimeWarning: invalid value encountered in true_divide\n",
      "  K_gradient = K[..., np.newaxis] * D \\\n",
      "/nix/store/h3jg5jg3iv8gxqb2hhfrvxnr3bb4dcah-python3.8-scikit-learn-0.23.2/lib/python3.8/site-packages/sklearn/gaussian_process/kernels.py:1623: RuntimeWarning: invalid value encountered in true_divide\n",
      "  K_gradient = K[..., np.newaxis] * D \\\n",
      "/nix/store/h3jg5jg3iv8gxqb2hhfrvxnr3bb4dcah-python3.8-scikit-learn-0.23.2/lib/python3.8/site-packages/sklearn/gaussian_process/kernels.py:1623: RuntimeWarning: invalid value encountered in true_divide\n",
      "  K_gradient = K[..., np.newaxis] * D \\\n"
     ]
    },
    {
     "name": "stdout",
     "output_type": "stream",
     "text": [
      "(400, 15)\n",
      "[0.8578969185665903, 0.9015503612285942, 0.8776151033138324, 0.9036828115858819, 0.940333173169795, 0.9290108666112127, 0.9443881071165511, 0.9278419991486242, 0.9057740571319699, 0.9370544215107524, 0.9258148207915172, 0.8991611006949676, 0.9118247109740596, 0.8589537598174053, 0.935815943973958, 0.9087158797109762, 0.929015289611213, 0.903961496784483, 0.9330544047046774, 0.9231600949876522, 0.9624389786987799, 0.9261069194916449, 0.9439103717172437, 0.9443454131404917, 0.9002121251139757, 0.9130699634650672, 0.9565055388057844, 0.9394651812713659, 0.9480609188107194, 0.9319624580765934, 0.9301673967362183, 0.9367742055643944, 0.9450383947111044, 0.9217889340346676, 0.9028403459802115, 0.9510380288736908, 0.9063682019511538, 0.9139693565645883, 0.9402476499262282, 0.8792517758233341]\n"
     ]
    }
   ],
   "source": [
    "scores = []\n",
    "for _ in range(40):\n",
    "    x_pool, x_test, x_train, y_pool, y_test, y_train = split(x_data_pca, y_data, (0.0, 0.2))\n",
    "    model = make_gp_model_matern()\n",
    "    model.fit(x_train, y_train)\n",
    "    print(x_train.shape)\n",
    "    scores += [model.score(x_test, y_test)]\n",
    "    \n",
    "print(scores)"
   ]
  },
  {
   "cell_type": "code",
   "execution_count": 30,
   "metadata": {},
   "outputs": [
    {
     "data": {
      "text/plain": [
       "0.9212046870047992"
      ]
     },
     "execution_count": 30,
     "metadata": {},
     "output_type": "execute_result"
    }
   ],
   "source": [
    "np.mean(scores)"
   ]
  },
  {
   "cell_type": "code",
   "execution_count": 31,
   "metadata": {},
   "outputs": [
    {
     "data": {
      "text/plain": [
       "0.02431749379410985"
      ]
     },
     "execution_count": 31,
     "metadata": {},
     "output_type": "execute_result"
    }
   ],
   "source": [
    "np.std(scores)"
   ]
  },
  {
   "cell_type": "code",
   "execution_count": null,
   "metadata": {},
   "outputs": [],
   "source": []
  }
 ],
 "metadata": {
  "kernelspec": {
   "display_name": "Python 3 (ipykernel)",
   "language": "python",
   "name": "python3"
  },
  "language_info": {
   "codemirror_mode": {
    "name": "ipython",
    "version": 3
   },
   "file_extension": ".py",
   "mimetype": "text/x-python",
   "name": "python",
   "nbconvert_exporter": "python",
   "pygments_lexer": "ipython3",
   "version": "3.8.5"
  }
 },
 "nbformat": 4,
 "nbformat_minor": 4
}
