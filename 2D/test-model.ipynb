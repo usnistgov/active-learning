{
 "cells": [
  {
   "cell_type": "markdown",
   "metadata": {},
   "source": [
    "# Test Model"
   ]
  },
  {
   "cell_type": "code",
   "execution_count": 635,
   "metadata": {},
   "outputs": [],
   "source": [
    "import numpy as np\n",
    "\n",
    "from active import split_on_ids\n",
    "from sklearn.gaussian_process.kernels import RBF, WhiteKernel, Matern\n",
    "from sklearn.gaussian_process import GaussianProcessRegressor\n",
    "import matplotlib.pyplot as plt\n",
    "from sklearn.metrics import r2_score\n",
    "from sklearn.pipeline import Pipeline\n",
    "from pymks import (\n",
    "    PrimitiveTransformer,\n",
    "    TwoPointCorrelation,\n",
    "    GenericTransformer,\n",
    ")\n",
    "\n",
    "from dask_ml.decomposition import IncrementalPCA\n",
    "from dask_ml.preprocessing import PolynomialFeatures\n",
    "from sklearn.linear_model import LinearRegression"
   ]
  },
  {
   "cell_type": "code",
   "execution_count": 636,
   "metadata": {},
   "outputs": [],
   "source": [
    "def make_gp_model_matern():\n",
    "    kernel = Matern(length_scale=1.0)\n",
    "    #kernel = 0.5 * RBF(length_scale=1) + WhiteKernel(noise_level=1)\n",
    "    regressor = GaussianProcessRegressor(kernel=kernel)\n",
    "    return regressor\n",
    "\n",
    "def make_linear_model():\n",
    "    return Pipeline(steps=(\n",
    "        ('poly', PolynomialFeatures(degree=3)),\n",
    "        ('regressor', LinearRegression()),\n",
    "    ))\n"
   ]
  },
  {
   "cell_type": "code",
   "execution_count": 637,
   "metadata": {},
   "outputs": [],
   "source": [
    "def plot_parity(y_test, y_predict, label='Testing Data'):\n",
    "    pred_data = np.array([y_test, y_predict])\n",
    "    line = np.min(pred_data), np.max(pred_data)\n",
    "    plt.plot(pred_data[0], pred_data[1], 'o', label=label)\n",
    "    plt.plot(line, line, '-', linewidth=3, color='k')\n",
    "    plt.title('Goodness of Fit', fontsize=20)\n",
    "    plt.xlabel('Actual', fontsize=18)\n",
    "    plt.ylabel('Predicted', fontsize=18)\n",
    "    plt.legend(loc=2, fontsize=15)\n",
    "    return plt"
   ]
  },
  {
   "cell_type": "code",
   "execution_count": 638,
   "metadata": {},
   "outputs": [],
   "source": [
    "def train_test_split_(x_data, y_data, prop, random_state=None):\n",
    "    ids = np.random.choice(len(x_data), int(prop * len(x_data)), replace=False)\n",
    "    x_0, x_1 = split_on_ids(x_data, ids)\n",
    "    y_0, y_1 = split_on_ids(y_data, ids)\n",
    "    return x_0, x_1, y_0, y_1"
   ]
  },
  {
   "cell_type": "code",
   "execution_count": 639,
   "metadata": {},
   "outputs": [],
   "source": [
    "def split(x_data, y_data, train_sizes=(0.9, 0.09), random_state=None):\n",
    "    x_pool, x_, y_pool, y_ = train_test_split_(\n",
    "        x_data,\n",
    "        y_data,\n",
    "        train_sizes[0],\n",
    "        random_state=random_state\n",
    "    )\n",
    "    x_test, x_calibrate, y_test, y_calibrate = train_test_split_(\n",
    "        x_,\n",
    "        y_,\n",
    "        train_sizes[1] / (1 - train_sizes[0]),\n",
    "        random_state=random_state\n",
    "    ) \n",
    "    return x_pool, x_test, x_calibrate, y_pool, y_test, y_calibrate"
   ]
  },
  {
   "cell_type": "code",
   "execution_count": 640,
   "metadata": {},
   "outputs": [],
   "source": [
    "data = np.load('data_pca51.npz')"
   ]
  },
  {
   "cell_type": "code",
   "execution_count": 641,
   "metadata": {},
   "outputs": [],
   "source": [
    "x_data_pca = data['x_data_pca'][:]\n",
    "y_data = data['y_data']"
   ]
  },
  {
   "cell_type": "code",
   "execution_count": 696,
   "metadata": {},
   "outputs": [],
   "source": [
    "x_pool, x_test, x_train, y_pool, y_test, y_train = split(x_data_pca, y_data, (0.6, 0.2))"
   ]
  },
  {
   "cell_type": "code",
   "execution_count": 697,
   "metadata": {},
   "outputs": [
    {
     "data": {
      "text/plain": [
       "(120, 15)"
      ]
     },
     "execution_count": 697,
     "metadata": {},
     "output_type": "execute_result"
    }
   ],
   "source": [
    "x_train.shape"
   ]
  },
  {
   "cell_type": "code",
   "execution_count": 698,
   "metadata": {},
   "outputs": [
    {
     "data": {
      "text/plain": [
       "(120, 15)"
      ]
     },
     "execution_count": 698,
     "metadata": {},
     "output_type": "execute_result"
    }
   ],
   "source": [
    "x_test.shape"
   ]
  },
  {
   "cell_type": "code",
   "execution_count": 699,
   "metadata": {},
   "outputs": [],
   "source": [
    "model = make_linear_model()\n",
    "#model = make_gp_model_matern()"
   ]
  },
  {
   "cell_type": "code",
   "execution_count": 700,
   "metadata": {},
   "outputs": [
    {
     "data": {
      "text/plain": [
       "Pipeline(steps=[('poly', PolynomialFeatures(degree=3)),\n",
       "                ('regressor', LinearRegression())])"
      ]
     },
     "execution_count": 700,
     "metadata": {},
     "output_type": "execute_result"
    }
   ],
   "source": [
    "model.fit(x_train, y_train)"
   ]
  },
  {
   "cell_type": "code",
   "execution_count": 701,
   "metadata": {},
   "outputs": [],
   "source": [
    "y_train_predict = model.predict(x_train)"
   ]
  },
  {
   "cell_type": "code",
   "execution_count": 702,
   "metadata": {},
   "outputs": [],
   "source": [
    "y_test_predict = model.predict(x_test)"
   ]
  },
  {
   "cell_type": "code",
   "execution_count": 703,
   "metadata": {},
   "outputs": [
    {
     "data": {
      "text/plain": [
       "<module 'matplotlib.pyplot' from '/nix/store/c8sgkmibi2vyfw75w9vai2917j5smvq7-python3.8-matplotlib-3.3.1/lib/python3.8/site-packages/matplotlib/pyplot.py'>"
      ]
     },
     "execution_count": 703,
     "metadata": {},
     "output_type": "execute_result"
    },
    {
     "data": {
      "image/png": "[encoded data removed]",
      "text/plain": [
       "<Figure size 432x288 with 1 Axes>"
      ]
     },
     "metadata": {
      "needs_background": "light"
     },
     "output_type": "display_data"
    }
   ],
   "source": [
    "plot_parity(y_train, y_train_predict)"
   ]
  },
  {
   "cell_type": "code",
   "execution_count": 704,
   "metadata": {},
   "outputs": [
    {
     "data": {
      "text/plain": [
       "<module 'matplotlib.pyplot' from '/nix/store/c8sgkmibi2vyfw75w9vai2917j5smvq7-python3.8-matplotlib-3.3.1/lib/python3.8/site-packages/matplotlib/pyplot.py'>"
      ]
     },
     "execution_count": 704,
     "metadata": {},
     "output_type": "execute_result"
    },
    {
     "data": {
      "image/png": "[encoded data removed]",
      "text/plain": [
       "<Figure size 432x288 with 1 Axes>"
      ]
     },
     "metadata": {
      "needs_background": "light"
     },
     "output_type": "display_data"
    }
   ],
   "source": [
    "plot_parity(y_test, y_test_predict)"
   ]
  },
  {
   "cell_type": "code",
   "execution_count": 705,
   "metadata": {},
   "outputs": [
    {
     "name": "stdout",
     "output_type": "stream",
     "text": [
      "0.9349095261192889\n",
      "0.9349095261192889\n"
     ]
    }
   ],
   "source": [
    "print(r2_score(y_test, y_test_predict))\n",
    "#print(y_test.shape)\n",
    "#print(y_test)\n",
    "print(model.score(x_test, y_test))\n",
    "#sklearn.metrics.r2_score()"
   ]
  },
  {
   "cell_type": "code",
   "execution_count": null,
   "metadata": {},
   "outputs": [],
   "source": []
  },
  {
   "cell_type": "code",
   "execution_count": 713,
   "metadata": {},
   "outputs": [
    {
     "name": "stdout",
     "output_type": "stream",
     "text": [
      "(30, 15)\n",
      "(30, 15)\n",
      "(30, 15)\n",
      "(30, 15)\n",
      "(30, 15)\n",
      "(30, 15)\n",
      "(30, 15)\n",
      "(30, 15)\n",
      "(30, 15)\n",
      "(30, 15)\n",
      "(30, 15)\n",
      "(30, 15)\n",
      "(30, 15)\n",
      "(30, 15)\n",
      "(30, 15)\n",
      "(30, 15)\n",
      "(30, 15)\n",
      "(30, 15)\n",
      "(30, 15)\n",
      "(30, 15)\n",
      "[0.5570214039574017, 0.4206152140549174, 0.18357165178428514, 0.6317831981741826, 0.42203945785631036, 0.8062241621250912, 0.45994420812889414, 0.7074291367604504, 0.859872218063946, 0.7151687815660607, 0.8443753722642442, 0.8400501637524821, 0.4448723330589689, 0.7311990740307388, 0.6228977645816314, 0.7779700527956738, 0.7071541225384932, 0.3733944347816617, 0.8239043390270282, 0.7416073046326681]\n"
     ]
    }
   ],
   "source": [
    "scores = []\n",
    "for _ in range(20):\n",
    "    x_pool, x_test, x_train, y_pool, y_test, y_train = split(x_data_pca, y_data, (0.75, 0.2))\n",
    "    model = make_linear_model()\n",
    "    model.fit(x_train, y_train)\n",
    "    print(x_train.shape)\n",
    "    scores += [model.score(x_test, y_test)]\n",
    "    \n",
    "print(scores)"
   ]
  },
  {
   "cell_type": "code",
   "execution_count": 672,
   "metadata": {},
   "outputs": [
    {
     "data": {
      "text/plain": [
       "0.9949383685747861"
      ]
     },
     "execution_count": 672,
     "metadata": {},
     "output_type": "execute_result"
    }
   ],
   "source": [
    "np.mean(scores)"
   ]
  },
  {
   "cell_type": "code",
   "execution_count": 673,
   "metadata": {},
   "outputs": [
    {
     "data": {
      "text/plain": [
       "0.0005963329904012462"
      ]
     },
     "execution_count": 673,
     "metadata": {},
     "output_type": "execute_result"
    }
   ],
   "source": [
    "np.std(scores)"
   ]
  },
  {
   "cell_type": "code",
   "execution_count": null,
   "metadata": {},
   "outputs": [],
   "source": []
  }
 ],
 "metadata": {
  "kernelspec": {
   "display_name": "Python 3",
   "language": "python",
   "name": "python3"
  },
  "language_info": {
   "codemirror_mode": {
    "name": "ipython",
    "version": 3
   },
   "file_extension": ".py",
   "mimetype": "text/x-python",
   "name": "python",
   "nbconvert_exporter": "python",
   "pygments_lexer": "ipython3",
   "version": "3.8.5"
  }
 },
 "nbformat": 4,
 "nbformat_minor": 4
}
