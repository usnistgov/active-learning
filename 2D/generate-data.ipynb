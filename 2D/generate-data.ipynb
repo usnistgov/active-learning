{
 "cells": [
  {
   "cell_type": "markdown",
   "metadata": {},
   "source": [
    "# Generate 2D Data\n",
    "\n",
    "Notebook to generate 2D data for active learning paper"
   ]
  },
  {
   "cell_type": "code",
   "execution_count": 47,
   "metadata": {},
   "outputs": [],
   "source": [
    "import numpy as np\n",
    "import dask.array as da\n",
    "\n",
    "from pymks import (\n",
    "    generate_multiphase,\n",
    "    plot_microstructures,\n",
    "    solve_fe\n",
    ")"
   ]
  },
  {
   "cell_type": "markdown",
   "metadata": {},
   "source": [
    "## Generate Data Functions\n",
    "\n",
    "Functions to generate the microstructure. The microstructures are stochastically generated from 6 nominal classes."
   ]
  },
  {
   "cell_type": "code",
   "execution_count": 59,
   "metadata": {},
   "outputs": [],
   "source": [
    "?generate_multiphase"
   ]
  },
  {
   "cell_type": "code",
   "execution_count": 49,
   "metadata": {},
   "outputs": [],
   "source": [
    "def shuffle(data):\n",
    "    tmp = np.array(data)\n",
    "    np.random.shuffle(tmp)\n",
    "    return da.from_array(tmp, chunks=data.chunks)\n",
    "\n",
    "def generate_x(shape, seed):\n",
    "    da.random.seed(seed)\n",
    "    np.random.seed(seed)\n",
    "\n",
    "    tmp = [\n",
    "        generate_multiphase(shape=shape, grain_size=x, volume_fraction=(0.5, 0.5), chunks=100, percent_variance=0.15)\n",
    "        for x in [(15, 2), (2, 15), (7, 7), (9, 3), (3, 9), (2, 2)]\n",
    "    ]\n",
    "    return np.array(shuffle(da.concatenate(tmp)))\n",
    "\n",
    "\n",
    "#def shuffle(data, chunk_size):\n",
    "#    tmp = np.array(data)\n",
    "#    np.random.shuffle(tmp)\n",
    "#    return da.from_array(tmp, chunks=(chunk_size,) + tmp.shape[1:])\n",
    "\n",
    "#def generate_x(shape, n_sample, seed, max_size=20, chunk_size=100):\n",
    "#    da.random.seed(seed)\n",
    "#    np.random.seed(seed)#\n",
    "\n",
    "#    tmp = [\n",
    "#        generate_multiphase(shape=(1,) + shape, grain_size=x, volume_fraction=(0.5, 0.5), chunks=1, percent_variance=0.15)\n",
    "#        for x in np.random.randint(2, 20, size=(n_sample, 2))\n",
    "#    ]\n",
    "#    \n",
    "#    return shuffle(da.concatenate(tmp), chunk_size)\n",
    "\n",
    "\n",
    "def oracle_from_data(x_data):\n",
    "    y_stress = solve_fe(x_data,\n",
    "#                        elastic_modulus=(1.3, 2.5),\n",
    "                        elastic_modulus=(1.0, 10.0),\n",
    "                        poissons_ratio=(0.48, 0.3),\n",
    "                        macro_strain=0.001)['stress'][..., 0]\n",
    "\n",
    "    return np.array(da.average(y_stress.reshape(y_stress.shape[0], -1), axis=1))"
   ]
  },
  {
   "cell_type": "markdown",
   "metadata": {},
   "source": [
    "## Generate the data"
   ]
  },
  {
   "cell_type": "code",
   "execution_count": 54,
   "metadata": {},
   "outputs": [],
   "source": [
    "grid_shape = (51, 51)\n",
    "x_data = generate_x((100, 51, 51), 99)"
   ]
  },
  {
   "cell_type": "code",
   "execution_count": 55,
   "metadata": {},
   "outputs": [
    {
     "data": {
      "image/png": "[encoded data removed]",
      "text/plain": [
       "<Figure size 2880x288 with 10 Axes>"
      ]
     },
     "metadata": {},
     "output_type": "display_data"
    }
   ],
   "source": [
    "plot_microstructures(*x_data[:10], cmap='gray', colorbar=False);"
   ]
  },
  {
   "cell_type": "code",
   "execution_count": 56,
   "metadata": {},
   "outputs": [
    {
     "name": "stdout",
     "output_type": "stream",
     "text": [
      "11:11AM -0500 on Dec 13, 2022\n",
      "11:28AM -0500 on Dec 13, 2022\n"
     ]
    }
   ],
   "source": [
    "import time\n",
    "print(time.strftime('%l:%M%p %z on %b %d, %Y'))\n",
    "y_data = oracle_from_data(x_data)\n",
    "print(time.strftime('%l:%M%p %z on %b %d, %Y'))"
   ]
  },
  {
   "cell_type": "markdown",
   "metadata": {},
   "source": [
    "2.5 minutes for 10 samples\n",
    "28.2 minutes for 100 samples\n",
    "20 hours for 1000 samples\n",
    "about 5 hours for 1000 samples"
   ]
  },
  {
   "cell_type": "code",
   "execution_count": 58,
   "metadata": {},
   "outputs": [],
   "source": [
    "np.savez_compressed('data51.npz', x_data=np.array(x_data), y_data=np.array(y_data))"
   ]
  },
  {
   "cell_type": "code",
   "execution_count": null,
   "metadata": {},
   "outputs": [],
   "source": []
  }
 ],
 "metadata": {
  "kernelspec": {
   "display_name": "Python 3",
   "language": "python",
   "name": "python3"
  },
  "language_info": {
   "codemirror_mode": {
    "name": "ipython",
    "version": 3
   },
   "file_extension": ".py",
   "mimetype": "text/x-python",
   "name": "python",
   "nbconvert_exporter": "python",
   "pygments_lexer": "ipython3",
   "version": "3.8.5"
  }
 },
 "nbformat": 4,
 "nbformat_minor": 4
}
