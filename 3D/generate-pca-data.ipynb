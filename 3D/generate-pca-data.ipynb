{
 "cells": [
  {
   "cell_type": "markdown",
   "id": "46cb80c3",
   "metadata": {},
   "source": [
    "# Generate PCA Data"
   ]
  },
  {
   "cell_type": "code",
   "execution_count": null,
   "id": "2ca6c570",
   "metadata": {},
   "outputs": [],
   "source": [
    "data = np.load('data_shuffled.npz')"
   ]
  },
  {
   "cell_type": "code",
   "execution_count": null,
   "id": "fde6113b",
   "metadata": {},
   "outputs": [],
   "source": [
    "x_data = data['x_data']\n",
    "y_data = data['y_data'].reshape(-1)"
   ]
  },
  {
   "cell_type": "code",
   "execution_count": null,
   "id": "944a8b1b",
   "metadata": {},
   "outputs": [],
   "source": [
    "print(x_data.shape)\n",
    "print(y_data.shape)"
   ]
  },
  {
   "cell_type": "code",
   "execution_count": null,
   "id": "cedd42b3",
   "metadata": {},
   "outputs": [],
   "source": [
    "plot_microstructures(*x_data[:10].reshape(10, 51, 51, 51)[:, :, :, 0], cmap='gray', colorbar=False)"
   ]
  },
  {
   "cell_type": "code",
   "execution_count": null,
   "id": "3cac45bb",
   "metadata": {},
   "outputs": [],
   "source": [
    "x_data_da = da.from_array(x_data, chunks=(100, -1))\n",
    "model = make_pca_model()\n",
    "x_data_pca = model.fit_transform(x_data_da).compute()"
   ]
  },
  {
   "cell_type": "code",
   "execution_count": null,
   "id": "a46f753e",
   "metadata": {},
   "outputs": [],
   "source": [
    "np.savez('data_pca.npz', x_data_pca=x_data_pca, y_data=y_data)"
   ]
  }
 ],
 "metadata": {
  "kernelspec": {
   "display_name": "Python 3 (ipykernel)",
   "language": "python",
   "name": "python3"
  },
  "language_info": {
   "codemirror_mode": {
    "name": "ipython",
    "version": 3
   },
   "file_extension": ".py",
   "mimetype": "text/x-python",
   "name": "python",
   "nbconvert_exporter": "python",
   "pygments_lexer": "ipython3",
   "version": "3.10.1"
  }
 },
 "nbformat": 4,
 "nbformat_minor": 5
}
